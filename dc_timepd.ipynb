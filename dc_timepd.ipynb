{
  "nbformat": 4,
  "nbformat_minor": 0,
  "metadata": {
    "colab": {
      "provenance": [],
      "authorship_tag": "ABX9TyOxYjzS2JQtIIOT8qa+vCWc",
      "include_colab_link": true
    },
    "kernelspec": {
      "name": "python3",
      "display_name": "Python 3"
    },
    "language_info": {
      "name": "python"
    }
  },
  "cells": [
    {
      "cell_type": "markdown",
      "metadata": {
        "id": "view-in-github",
        "colab_type": "text"
      },
      "source": [
        "<a href=\"https://colab.research.google.com/github/SIluk13/G-Colaboratory-Project/blob/main/dc_timepd.ipynb\" target=\"_parent\"><img src=\"https://colab.research.google.com/assets/colab-badge.svg\" alt=\"Open In Colab\"/></a>"
      ]
    },
    {
      "cell_type": "code",
      "source": [
        "import pandas as pd\n",
        "from matplotlib import pyplot\n",
        "data_PD = pd.read_csv('/content/c12.csv')\n",
        "data_PD.head(10)"
      ],
      "metadata": {
        "id": "tr8KIoRNxKAk",
        "colab": {
          "base_uri": "https://localhost:8080/",
          "height": 363
        },
        "outputId": "c9703887-4aa0-460d-830a-101584cd1022"
      },
      "execution_count": 34,
      "outputs": [
        {
          "output_type": "execute_result",
          "data": {
            "text/plain": [
              "              ProID                Info  Unnamed: 2          time    Vol.  \\\n",
              "0           GenTime    2022-06-18 07:44         NaN  0.000000e+00 -0.0020   \n",
              "1          FileName             c12.csv         NaN  4.000000e-09 -0.0006   \n",
              "2     Record Length  7000.000000 Points         NaN  8.000000e-09 -0.0024   \n",
              "3   Sample Interval      4.000000e-09 s         NaN  1.200000e-08 -0.0006   \n",
              "4      Trigger Time      0.000000e+00 S         NaN  1.600000e-08 -0.0014   \n",
              "5            Source                 CH1         NaN  2.000000e-08 -0.0020   \n",
              "6    Vertical Units              V/grid         NaN  2.400000e-08 -0.0006   \n",
              "7    Vertical Scale        1.000000e-02         NaN  2.800000e-08 -0.0024   \n",
              "8   Vertical Offset        4.400000e+01         NaN  3.200000e-08 -0.0006   \n",
              "9  Horizontal Units              s/grid         NaN  3.600000e-08 -0.0010   \n",
              "\n",
              "   Unnamed: 5  \n",
              "0         NaN  \n",
              "1         NaN  \n",
              "2         NaN  \n",
              "3         NaN  \n",
              "4         NaN  \n",
              "5         NaN  \n",
              "6         NaN  \n",
              "7         NaN  \n",
              "8         NaN  \n",
              "9         NaN  "
            ],
            "text/html": [
              "\n",
              "  <div id=\"df-00328ede-6cb6-48f0-9a80-e723c335281b\">\n",
              "    <div class=\"colab-df-container\">\n",
              "      <div>\n",
              "<style scoped>\n",
              "    .dataframe tbody tr th:only-of-type {\n",
              "        vertical-align: middle;\n",
              "    }\n",
              "\n",
              "    .dataframe tbody tr th {\n",
              "        vertical-align: top;\n",
              "    }\n",
              "\n",
              "    .dataframe thead th {\n",
              "        text-align: right;\n",
              "    }\n",
              "</style>\n",
              "<table border=\"1\" class=\"dataframe\">\n",
              "  <thead>\n",
              "    <tr style=\"text-align: right;\">\n",
              "      <th></th>\n",
              "      <th>ProID</th>\n",
              "      <th>Info</th>\n",
              "      <th>Unnamed: 2</th>\n",
              "      <th>time</th>\n",
              "      <th>Vol.</th>\n",
              "      <th>Unnamed: 5</th>\n",
              "    </tr>\n",
              "  </thead>\n",
              "  <tbody>\n",
              "    <tr>\n",
              "      <th>0</th>\n",
              "      <td>GenTime</td>\n",
              "      <td>2022-06-18 07:44</td>\n",
              "      <td>NaN</td>\n",
              "      <td>0.000000e+00</td>\n",
              "      <td>-0.0020</td>\n",
              "      <td>NaN</td>\n",
              "    </tr>\n",
              "    <tr>\n",
              "      <th>1</th>\n",
              "      <td>FileName</td>\n",
              "      <td>c12.csv</td>\n",
              "      <td>NaN</td>\n",
              "      <td>4.000000e-09</td>\n",
              "      <td>-0.0006</td>\n",
              "      <td>NaN</td>\n",
              "    </tr>\n",
              "    <tr>\n",
              "      <th>2</th>\n",
              "      <td>Record Length</td>\n",
              "      <td>7000.000000 Points</td>\n",
              "      <td>NaN</td>\n",
              "      <td>8.000000e-09</td>\n",
              "      <td>-0.0024</td>\n",
              "      <td>NaN</td>\n",
              "    </tr>\n",
              "    <tr>\n",
              "      <th>3</th>\n",
              "      <td>Sample Interval</td>\n",
              "      <td>4.000000e-09 s</td>\n",
              "      <td>NaN</td>\n",
              "      <td>1.200000e-08</td>\n",
              "      <td>-0.0006</td>\n",
              "      <td>NaN</td>\n",
              "    </tr>\n",
              "    <tr>\n",
              "      <th>4</th>\n",
              "      <td>Trigger Time</td>\n",
              "      <td>0.000000e+00 S</td>\n",
              "      <td>NaN</td>\n",
              "      <td>1.600000e-08</td>\n",
              "      <td>-0.0014</td>\n",
              "      <td>NaN</td>\n",
              "    </tr>\n",
              "    <tr>\n",
              "      <th>5</th>\n",
              "      <td>Source</td>\n",
              "      <td>CH1</td>\n",
              "      <td>NaN</td>\n",
              "      <td>2.000000e-08</td>\n",
              "      <td>-0.0020</td>\n",
              "      <td>NaN</td>\n",
              "    </tr>\n",
              "    <tr>\n",
              "      <th>6</th>\n",
              "      <td>Vertical Units</td>\n",
              "      <td>V/grid</td>\n",
              "      <td>NaN</td>\n",
              "      <td>2.400000e-08</td>\n",
              "      <td>-0.0006</td>\n",
              "      <td>NaN</td>\n",
              "    </tr>\n",
              "    <tr>\n",
              "      <th>7</th>\n",
              "      <td>Vertical Scale</td>\n",
              "      <td>1.000000e-02</td>\n",
              "      <td>NaN</td>\n",
              "      <td>2.800000e-08</td>\n",
              "      <td>-0.0024</td>\n",
              "      <td>NaN</td>\n",
              "    </tr>\n",
              "    <tr>\n",
              "      <th>8</th>\n",
              "      <td>Vertical Offset</td>\n",
              "      <td>4.400000e+01</td>\n",
              "      <td>NaN</td>\n",
              "      <td>3.200000e-08</td>\n",
              "      <td>-0.0006</td>\n",
              "      <td>NaN</td>\n",
              "    </tr>\n",
              "    <tr>\n",
              "      <th>9</th>\n",
              "      <td>Horizontal Units</td>\n",
              "      <td>s/grid</td>\n",
              "      <td>NaN</td>\n",
              "      <td>3.600000e-08</td>\n",
              "      <td>-0.0010</td>\n",
              "      <td>NaN</td>\n",
              "    </tr>\n",
              "  </tbody>\n",
              "</table>\n",
              "</div>\n",
              "      <button class=\"colab-df-convert\" onclick=\"convertToInteractive('df-00328ede-6cb6-48f0-9a80-e723c335281b')\"\n",
              "              title=\"Convert this dataframe to an interactive table.\"\n",
              "              style=\"display:none;\">\n",
              "        \n",
              "  <svg xmlns=\"http://www.w3.org/2000/svg\" height=\"24px\"viewBox=\"0 0 24 24\"\n",
              "       width=\"24px\">\n",
              "    <path d=\"M0 0h24v24H0V0z\" fill=\"none\"/>\n",
              "    <path d=\"M18.56 5.44l.94 2.06.94-2.06 2.06-.94-2.06-.94-.94-2.06-.94 2.06-2.06.94zm-11 1L8.5 8.5l.94-2.06 2.06-.94-2.06-.94L8.5 2.5l-.94 2.06-2.06.94zm10 10l.94 2.06.94-2.06 2.06-.94-2.06-.94-.94-2.06-.94 2.06-2.06.94z\"/><path d=\"M17.41 7.96l-1.37-1.37c-.4-.4-.92-.59-1.43-.59-.52 0-1.04.2-1.43.59L10.3 9.45l-7.72 7.72c-.78.78-.78 2.05 0 2.83L4 21.41c.39.39.9.59 1.41.59.51 0 1.02-.2 1.41-.59l7.78-7.78 2.81-2.81c.8-.78.8-2.07 0-2.86zM5.41 20L4 18.59l7.72-7.72 1.47 1.35L5.41 20z\"/>\n",
              "  </svg>\n",
              "      </button>\n",
              "      \n",
              "  <style>\n",
              "    .colab-df-container {\n",
              "      display:flex;\n",
              "      flex-wrap:wrap;\n",
              "      gap: 12px;\n",
              "    }\n",
              "\n",
              "    .colab-df-convert {\n",
              "      background-color: #E8F0FE;\n",
              "      border: none;\n",
              "      border-radius: 50%;\n",
              "      cursor: pointer;\n",
              "      display: none;\n",
              "      fill: #1967D2;\n",
              "      height: 32px;\n",
              "      padding: 0 0 0 0;\n",
              "      width: 32px;\n",
              "    }\n",
              "\n",
              "    .colab-df-convert:hover {\n",
              "      background-color: #E2EBFA;\n",
              "      box-shadow: 0px 1px 2px rgba(60, 64, 67, 0.3), 0px 1px 3px 1px rgba(60, 64, 67, 0.15);\n",
              "      fill: #174EA6;\n",
              "    }\n",
              "\n",
              "    [theme=dark] .colab-df-convert {\n",
              "      background-color: #3B4455;\n",
              "      fill: #D2E3FC;\n",
              "    }\n",
              "\n",
              "    [theme=dark] .colab-df-convert:hover {\n",
              "      background-color: #434B5C;\n",
              "      box-shadow: 0px 1px 3px 1px rgba(0, 0, 0, 0.15);\n",
              "      filter: drop-shadow(0px 1px 2px rgba(0, 0, 0, 0.3));\n",
              "      fill: #FFFFFF;\n",
              "    }\n",
              "  </style>\n",
              "\n",
              "      <script>\n",
              "        const buttonEl =\n",
              "          document.querySelector('#df-00328ede-6cb6-48f0-9a80-e723c335281b button.colab-df-convert');\n",
              "        buttonEl.style.display =\n",
              "          google.colab.kernel.accessAllowed ? 'block' : 'none';\n",
              "\n",
              "        async function convertToInteractive(key) {\n",
              "          const element = document.querySelector('#df-00328ede-6cb6-48f0-9a80-e723c335281b');\n",
              "          const dataTable =\n",
              "            await google.colab.kernel.invokeFunction('convertToInteractive',\n",
              "                                                     [key], {});\n",
              "          if (!dataTable) return;\n",
              "\n",
              "          const docLinkHtml = 'Like what you see? Visit the ' +\n",
              "            '<a target=\"_blank\" href=https://colab.research.google.com/notebooks/data_table.ipynb>data table notebook</a>'\n",
              "            + ' to learn more about interactive tables.';\n",
              "          element.innerHTML = '';\n",
              "          dataTable['output_type'] = 'display_data';\n",
              "          await google.colab.output.renderOutput(dataTable, element);\n",
              "          const docLink = document.createElement('div');\n",
              "          docLink.innerHTML = docLinkHtml;\n",
              "          element.appendChild(docLink);\n",
              "        }\n",
              "      </script>\n",
              "    </div>\n",
              "  </div>\n",
              "  "
            ]
          },
          "metadata": {},
          "execution_count": 34
        }
      ]
    },
    {
      "cell_type": "code",
      "source": [
        "trPD = pd.DataFrame(data_PD, columns=['time', 'Vol.'])\n",
        "trPD.head(10)"
      ],
      "metadata": {
        "colab": {
          "base_uri": "https://localhost:8080/",
          "height": 363
        },
        "id": "tRSyQ9mZig2O",
        "outputId": "0635880a-3175-41e7-9cbd-8a5c9c10f4b2"
      },
      "execution_count": 43,
      "outputs": [
        {
          "output_type": "execute_result",
          "data": {
            "text/plain": [
              "           time    Vol.\n",
              "0  0.000000e+00 -0.0020\n",
              "1  4.000000e-09 -0.0006\n",
              "2  8.000000e-09 -0.0024\n",
              "3  1.200000e-08 -0.0006\n",
              "4  1.600000e-08 -0.0014\n",
              "5  2.000000e-08 -0.0020\n",
              "6  2.400000e-08 -0.0006\n",
              "7  2.800000e-08 -0.0024\n",
              "8  3.200000e-08 -0.0006\n",
              "9  3.600000e-08 -0.0010"
            ],
            "text/html": [
              "\n",
              "  <div id=\"df-1713e077-8c69-48b7-99b8-2247a065c857\">\n",
              "    <div class=\"colab-df-container\">\n",
              "      <div>\n",
              "<style scoped>\n",
              "    .dataframe tbody tr th:only-of-type {\n",
              "        vertical-align: middle;\n",
              "    }\n",
              "\n",
              "    .dataframe tbody tr th {\n",
              "        vertical-align: top;\n",
              "    }\n",
              "\n",
              "    .dataframe thead th {\n",
              "        text-align: right;\n",
              "    }\n",
              "</style>\n",
              "<table border=\"1\" class=\"dataframe\">\n",
              "  <thead>\n",
              "    <tr style=\"text-align: right;\">\n",
              "      <th></th>\n",
              "      <th>time</th>\n",
              "      <th>Vol.</th>\n",
              "    </tr>\n",
              "  </thead>\n",
              "  <tbody>\n",
              "    <tr>\n",
              "      <th>0</th>\n",
              "      <td>0.000000e+00</td>\n",
              "      <td>-0.0020</td>\n",
              "    </tr>\n",
              "    <tr>\n",
              "      <th>1</th>\n",
              "      <td>4.000000e-09</td>\n",
              "      <td>-0.0006</td>\n",
              "    </tr>\n",
              "    <tr>\n",
              "      <th>2</th>\n",
              "      <td>8.000000e-09</td>\n",
              "      <td>-0.0024</td>\n",
              "    </tr>\n",
              "    <tr>\n",
              "      <th>3</th>\n",
              "      <td>1.200000e-08</td>\n",
              "      <td>-0.0006</td>\n",
              "    </tr>\n",
              "    <tr>\n",
              "      <th>4</th>\n",
              "      <td>1.600000e-08</td>\n",
              "      <td>-0.0014</td>\n",
              "    </tr>\n",
              "    <tr>\n",
              "      <th>5</th>\n",
              "      <td>2.000000e-08</td>\n",
              "      <td>-0.0020</td>\n",
              "    </tr>\n",
              "    <tr>\n",
              "      <th>6</th>\n",
              "      <td>2.400000e-08</td>\n",
              "      <td>-0.0006</td>\n",
              "    </tr>\n",
              "    <tr>\n",
              "      <th>7</th>\n",
              "      <td>2.800000e-08</td>\n",
              "      <td>-0.0024</td>\n",
              "    </tr>\n",
              "    <tr>\n",
              "      <th>8</th>\n",
              "      <td>3.200000e-08</td>\n",
              "      <td>-0.0006</td>\n",
              "    </tr>\n",
              "    <tr>\n",
              "      <th>9</th>\n",
              "      <td>3.600000e-08</td>\n",
              "      <td>-0.0010</td>\n",
              "    </tr>\n",
              "  </tbody>\n",
              "</table>\n",
              "</div>\n",
              "      <button class=\"colab-df-convert\" onclick=\"convertToInteractive('df-1713e077-8c69-48b7-99b8-2247a065c857')\"\n",
              "              title=\"Convert this dataframe to an interactive table.\"\n",
              "              style=\"display:none;\">\n",
              "        \n",
              "  <svg xmlns=\"http://www.w3.org/2000/svg\" height=\"24px\"viewBox=\"0 0 24 24\"\n",
              "       width=\"24px\">\n",
              "    <path d=\"M0 0h24v24H0V0z\" fill=\"none\"/>\n",
              "    <path d=\"M18.56 5.44l.94 2.06.94-2.06 2.06-.94-2.06-.94-.94-2.06-.94 2.06-2.06.94zm-11 1L8.5 8.5l.94-2.06 2.06-.94-2.06-.94L8.5 2.5l-.94 2.06-2.06.94zm10 10l.94 2.06.94-2.06 2.06-.94-2.06-.94-.94-2.06-.94 2.06-2.06.94z\"/><path d=\"M17.41 7.96l-1.37-1.37c-.4-.4-.92-.59-1.43-.59-.52 0-1.04.2-1.43.59L10.3 9.45l-7.72 7.72c-.78.78-.78 2.05 0 2.83L4 21.41c.39.39.9.59 1.41.59.51 0 1.02-.2 1.41-.59l7.78-7.78 2.81-2.81c.8-.78.8-2.07 0-2.86zM5.41 20L4 18.59l7.72-7.72 1.47 1.35L5.41 20z\"/>\n",
              "  </svg>\n",
              "      </button>\n",
              "      \n",
              "  <style>\n",
              "    .colab-df-container {\n",
              "      display:flex;\n",
              "      flex-wrap:wrap;\n",
              "      gap: 12px;\n",
              "    }\n",
              "\n",
              "    .colab-df-convert {\n",
              "      background-color: #E8F0FE;\n",
              "      border: none;\n",
              "      border-radius: 50%;\n",
              "      cursor: pointer;\n",
              "      display: none;\n",
              "      fill: #1967D2;\n",
              "      height: 32px;\n",
              "      padding: 0 0 0 0;\n",
              "      width: 32px;\n",
              "    }\n",
              "\n",
              "    .colab-df-convert:hover {\n",
              "      background-color: #E2EBFA;\n",
              "      box-shadow: 0px 1px 2px rgba(60, 64, 67, 0.3), 0px 1px 3px 1px rgba(60, 64, 67, 0.15);\n",
              "      fill: #174EA6;\n",
              "    }\n",
              "\n",
              "    [theme=dark] .colab-df-convert {\n",
              "      background-color: #3B4455;\n",
              "      fill: #D2E3FC;\n",
              "    }\n",
              "\n",
              "    [theme=dark] .colab-df-convert:hover {\n",
              "      background-color: #434B5C;\n",
              "      box-shadow: 0px 1px 3px 1px rgba(0, 0, 0, 0.15);\n",
              "      filter: drop-shadow(0px 1px 2px rgba(0, 0, 0, 0.3));\n",
              "      fill: #FFFFFF;\n",
              "    }\n",
              "  </style>\n",
              "\n",
              "      <script>\n",
              "        const buttonEl =\n",
              "          document.querySelector('#df-1713e077-8c69-48b7-99b8-2247a065c857 button.colab-df-convert');\n",
              "        buttonEl.style.display =\n",
              "          google.colab.kernel.accessAllowed ? 'block' : 'none';\n",
              "\n",
              "        async function convertToInteractive(key) {\n",
              "          const element = document.querySelector('#df-1713e077-8c69-48b7-99b8-2247a065c857');\n",
              "          const dataTable =\n",
              "            await google.colab.kernel.invokeFunction('convertToInteractive',\n",
              "                                                     [key], {});\n",
              "          if (!dataTable) return;\n",
              "\n",
              "          const docLinkHtml = 'Like what you see? Visit the ' +\n",
              "            '<a target=\"_blank\" href=https://colab.research.google.com/notebooks/data_table.ipynb>data table notebook</a>'\n",
              "            + ' to learn more about interactive tables.';\n",
              "          element.innerHTML = '';\n",
              "          dataTable['output_type'] = 'display_data';\n",
              "          await google.colab.output.renderOutput(dataTable, element);\n",
              "          const docLink = document.createElement('div');\n",
              "          docLink.innerHTML = docLinkHtml;\n",
              "          element.appendChild(docLink);\n",
              "        }\n",
              "      </script>\n",
              "    </div>\n",
              "  </div>\n",
              "  "
            ]
          },
          "metadata": {},
          "execution_count": 43
        }
      ]
    },
    {
      "cell_type": "code",
      "source": [
        "trPD['Vol.'].plot()"
      ],
      "metadata": {
        "colab": {
          "base_uri": "https://localhost:8080/",
          "height": 282
        },
        "id": "ktD583mROPzs",
        "outputId": "a7d69957-0924-4272-a135-1497bfeb5ae1"
      },
      "execution_count": 44,
      "outputs": [
        {
          "output_type": "execute_result",
          "data": {
            "text/plain": [
              "<matplotlib.axes._subplots.AxesSubplot at 0x7fd957ef4850>"
            ]
          },
          "metadata": {},
          "execution_count": 44
        },
        {
          "output_type": "display_data",
          "data": {
            "text/plain": [
              "<Figure size 432x288 with 1 Axes>"
            ],
            "image/png": "[encoded data removed]"
          },
          "metadata": {
            "needs_background": "light"
          }
        }
      ]
    },
    {
      "cell_type": "code",
      "source": [
        "print(max(trPD['Vol.']))"
      ],
      "metadata": {
        "colab": {
          "base_uri": "https://localhost:8080/"
        },
        "id": "Yvybeu5XOfVz",
        "outputId": "b28e6aae-a0db-45b3-ee25-a12ea4a9e853"
      },
      "execution_count": 46,
      "outputs": [
        {
          "output_type": "stream",
          "name": "stdout",
          "text": [
            "0.024\n"
          ]
        }
      ]
    },
    {
      "cell_type": "code",
      "source": [
        "status_pd = ['pd']*len(trPD['Vol.'])\n",
        "trpd = pd.DataFrame(list(zip(list(data_PD['time']*1000000),list(data_PD['Vol.']*1000),status_pd)))\n",
        "trpd.columns = ['Times(us)','Amplitude(mV)','Status']"
      ],
      "metadata": {
        "id": "4bfZIgvEQC53"
      },
      "execution_count": 49,
      "outputs": []
    },
    {
      "cell_type": "code",
      "source": [
        "trpd.head()"
      ],
      "metadata": {
        "colab": {
          "base_uri": "https://localhost:8080/",
          "height": 206
        },
        "id": "yXppLNrMQ8wz",
        "outputId": "d99a627e-122e-4afa-90ea-e7cd30c7a6bd"
      },
      "execution_count": 50,
      "outputs": [
        {
          "output_type": "execute_result",
          "data": {
            "text/plain": [
              "   Times(us)  Amplitude(mV) Status\n",
              "0      0.000           -2.0     pd\n",
              "1      0.004           -0.6     pd\n",
              "2      0.008           -2.4     pd\n",
              "3      0.012           -0.6     pd\n",
              "4      0.016           -1.4     pd"
            ],
            "text/html": [
              "\n",
              "  <div id=\"df-34e60a16-d695-4ea2-ba2c-70d7eacda193\">\n",
              "    <div class=\"colab-df-container\">\n",
              "      <div>\n",
              "<style scoped>\n",
              "    .dataframe tbody tr th:only-of-type {\n",
              "        vertical-align: middle;\n",
              "    }\n",
              "\n",
              "    .dataframe tbody tr th {\n",
              "        vertical-align: top;\n",
              "    }\n",
              "\n",
              "    .dataframe thead th {\n",
              "        text-align: right;\n",
              "    }\n",
              "</style>\n",
              "<table border=\"1\" class=\"dataframe\">\n",
              "  <thead>\n",
              "    <tr style=\"text-align: right;\">\n",
              "      <th></th>\n",
              "      <th>Times(us)</th>\n",
              "      <th>Amplitude(mV)</th>\n",
              "      <th>Status</th>\n",
              "    </tr>\n",
              "  </thead>\n",
              "  <tbody>\n",
              "    <tr>\n",
              "      <th>0</th>\n",
              "      <td>0.000</td>\n",
              "      <td>-2.0</td>\n",
              "      <td>pd</td>\n",
              "    </tr>\n",
              "    <tr>\n",
              "      <th>1</th>\n",
              "      <td>0.004</td>\n",
              "      <td>-0.6</td>\n",
              "      <td>pd</td>\n",
              "    </tr>\n",
              "    <tr>\n",
              "      <th>2</th>\n",
              "      <td>0.008</td>\n",
              "      <td>-2.4</td>\n",
              "      <td>pd</td>\n",
              "    </tr>\n",
              "    <tr>\n",
              "      <th>3</th>\n",
              "      <td>0.012</td>\n",
              "      <td>-0.6</td>\n",
              "      <td>pd</td>\n",
              "    </tr>\n",
              "    <tr>\n",
              "      <th>4</th>\n",
              "      <td>0.016</td>\n",
              "      <td>-1.4</td>\n",
              "      <td>pd</td>\n",
              "    </tr>\n",
              "  </tbody>\n",
              "</table>\n",
              "</div>\n",
              "      <button class=\"colab-df-convert\" onclick=\"convertToInteractive('df-34e60a16-d695-4ea2-ba2c-70d7eacda193')\"\n",
              "              title=\"Convert this dataframe to an interactive table.\"\n",
              "              style=\"display:none;\">\n",
              "        \n",
              "  <svg xmlns=\"http://www.w3.org/2000/svg\" height=\"24px\"viewBox=\"0 0 24 24\"\n",
              "       width=\"24px\">\n",
              "    <path d=\"M0 0h24v24H0V0z\" fill=\"none\"/>\n",
              "    <path d=\"M18.56 5.44l.94 2.06.94-2.06 2.06-.94-2.06-.94-.94-2.06-.94 2.06-2.06.94zm-11 1L8.5 8.5l.94-2.06 2.06-.94-2.06-.94L8.5 2.5l-.94 2.06-2.06.94zm10 10l.94 2.06.94-2.06 2.06-.94-2.06-.94-.94-2.06-.94 2.06-2.06.94z\"/><path d=\"M17.41 7.96l-1.37-1.37c-.4-.4-.92-.59-1.43-.59-.52 0-1.04.2-1.43.59L10.3 9.45l-7.72 7.72c-.78.78-.78 2.05 0 2.83L4 21.41c.39.39.9.59 1.41.59.51 0 1.02-.2 1.41-.59l7.78-7.78 2.81-2.81c.8-.78.8-2.07 0-2.86zM5.41 20L4 18.59l7.72-7.72 1.47 1.35L5.41 20z\"/>\n",
              "  </svg>\n",
              "      </button>\n",
              "      \n",
              "  <style>\n",
              "    .colab-df-container {\n",
              "      display:flex;\n",
              "      flex-wrap:wrap;\n",
              "      gap: 12px;\n",
              "    }\n",
              "\n",
              "    .colab-df-convert {\n",
              "      background-color: #E8F0FE;\n",
              "      border: none;\n",
              "      border-radius: 50%;\n",
              "      cursor: pointer;\n",
              "      display: none;\n",
              "      fill: #1967D2;\n",
              "      height: 32px;\n",
              "      padding: 0 0 0 0;\n",
              "      width: 32px;\n",
              "    }\n",
              "\n",
              "    .colab-df-convert:hover {\n",
              "      background-color: #E2EBFA;\n",
              "      box-shadow: 0px 1px 2px rgba(60, 64, 67, 0.3), 0px 1px 3px 1px rgba(60, 64, 67, 0.15);\n",
              "      fill: #174EA6;\n",
              "    }\n",
              "\n",
              "    [theme=dark] .colab-df-convert {\n",
              "      background-color: #3B4455;\n",
              "      fill: #D2E3FC;\n",
              "    }\n",
              "\n",
              "    [theme=dark] .colab-df-convert:hover {\n",
              "      background-color: #434B5C;\n",
              "      box-shadow: 0px 1px 3px 1px rgba(0, 0, 0, 0.15);\n",
              "      filter: drop-shadow(0px 1px 2px rgba(0, 0, 0, 0.3));\n",
              "      fill: #FFFFFF;\n",
              "    }\n",
              "  </style>\n",
              "\n",
              "      <script>\n",
              "        const buttonEl =\n",
              "          document.querySelector('#df-34e60a16-d695-4ea2-ba2c-70d7eacda193 button.colab-df-convert');\n",
              "        buttonEl.style.display =\n",
              "          google.colab.kernel.accessAllowed ? 'block' : 'none';\n",
              "\n",
              "        async function convertToInteractive(key) {\n",
              "          const element = document.querySelector('#df-34e60a16-d695-4ea2-ba2c-70d7eacda193');\n",
              "          const dataTable =\n",
              "            await google.colab.kernel.invokeFunction('convertToInteractive',\n",
              "                                                     [key], {});\n",
              "          if (!dataTable) return;\n",
              "\n",
              "          const docLinkHtml = 'Like what you see? Visit the ' +\n",
              "            '<a target=\"_blank\" href=https://colab.research.google.com/notebooks/data_table.ipynb>data table notebook</a>'\n",
              "            + ' to learn more about interactive tables.';\n",
              "          element.innerHTML = '';\n",
              "          dataTable['output_type'] = 'display_data';\n",
              "          await google.colab.output.renderOutput(dataTable, element);\n",
              "          const docLink = document.createElement('div');\n",
              "          docLink.innerHTML = docLinkHtml;\n",
              "          element.appendChild(docLink);\n",
              "        }\n",
              "      </script>\n",
              "    </div>\n",
              "  </div>\n",
              "  "
            ]
          },
          "metadata": {},
          "execution_count": 50
        }
      ]
    },
    {
      "cell_type": "code",
      "source": [
        "PD_positif = trpd[((trpd['Amplitude(mV)'] > 2) & trpd['Status'].isin(['pd']))]"
      ],
      "metadata": {
        "id": "A0YFJIvnRCrI"
      },
      "execution_count": 62,
      "outputs": []
    },
    {
      "cell_type": "code",
      "source": [
        "print(PD_positif)"
      ],
      "metadata": {
        "colab": {
          "base_uri": "https://localhost:8080/"
        },
        "id": "IUl1CJu7TqCa",
        "outputId": "9e92d7cd-c127-4d7c-c61f-8b69664274f9"
      },
      "execution_count": 63,
      "outputs": [
        {
          "output_type": "stream",
          "name": "stdout",
          "text": [
            "      Times(us)  Amplitude(mV) Status\n",
            "66        0.264            3.8     pd\n",
            "444       1.776            3.0     pd\n",
            "459       1.836            2.2     pd\n",
            "823       3.292            2.6     pd\n",
            "1759      7.036            2.2     pd\n",
            "...         ...            ...    ...\n",
            "6506     26.024            2.2     pd\n",
            "6514     26.056            2.6     pd\n",
            "6516     26.064            2.2     pd\n",
            "6794     27.176            2.2     pd\n",
            "6873     27.492            2.2     pd\n",
            "\n",
            "[859 rows x 3 columns]\n"
          ]
        }
      ]
    },
    {
      "cell_type": "code",
      "source": [
        "maxPD_positif = max(PD_positif['Amplitude(mV)'])\n",
        "minPD_positif = min(PD_positif['Amplitude(mV)'])\n",
        "print('maxPD_positif:  ', maxPD_positif,'mV')\n",
        "print('minPD_positif:  ', minPD_positif,'mV')\n",
        "print('deltaPD_positif: ',maxPD_positif-minPD_positif,'mV')\n",
        "print('Jumlah PD Positif: ', len(PD_positif))\n"
      ],
      "metadata": {
        "colab": {
          "base_uri": "https://localhost:8080/"
        },
        "id": "hZHV5Si3TtQv",
        "outputId": "9c029955-5d04-459b-924c-19d4f4969244"
      },
      "execution_count": 64,
      "outputs": [
        {
          "output_type": "stream",
          "name": "stdout",
          "text": [
            "maxPD_positif:   24.0 mV\n",
            "minPD_positif:   2.2 mV\n",
            "deltaPD_positif:  21.8 mV\n",
            "Jumlah PD Positif:  859\n"
          ]
        }
      ]
    },
    {
      "cell_type": "code",
      "source": [
        "PD_negatif = trpd[((trpd['Amplitude(mV)'] < -2) & trpd['Status'].isin(['pd']))]\n",
        "print(PD_negatif)"
      ],
      "metadata": {
        "colab": {
          "base_uri": "https://localhost:8080/"
        },
        "id": "PwXA9cMQVj6f",
        "outputId": "30bb4cea-8f0e-46fe-ba7f-070575442b2f"
      },
      "execution_count": 66,
      "outputs": [
        {
          "output_type": "stream",
          "name": "stdout",
          "text": [
            "      Times(us)  Amplitude(mV) Status\n",
            "2         0.008           -2.4     pd\n",
            "7         0.028           -2.4     pd\n",
            "65        0.260           -2.8     pd\n",
            "217       0.868           -2.4     pd\n",
            "222       0.888           -2.4     pd\n",
            "...         ...            ...    ...\n",
            "6987     27.948           -2.4     pd\n",
            "6989     27.956           -2.4     pd\n",
            "6993     27.972           -2.4     pd\n",
            "6996     27.984           -2.4     pd\n",
            "6998     27.992           -2.4     pd\n",
            "\n",
            "[2153 rows x 3 columns]\n"
          ]
        }
      ]
    },
    {
      "cell_type": "code",
      "source": [
        "maxPD_negatif = max(PD_negatif['Amplitude(mV)'])\n",
        "minPD_negatif = min(PD_negatif['Amplitude(mV)'])\n",
        "print('maxPD_negatif:  ', maxPD_negatif,'mV')\n",
        "print('minPD_negatif:  ', minPD_negatif,'mV')\n",
        "print('deltaPD_negatif: ',maxPD_negatif-minPD_negatif,'mV')\n",
        "print('Jumlah PD negatif: ', len(PD_negatif))"
      ],
      "metadata": {
        "colab": {
          "base_uri": "https://localhost:8080/"
        },
        "id": "oJVBefchXB0O",
        "outputId": "f6e6f769-02de-440a-e2f5-7d6414416b24"
      },
      "execution_count": 67,
      "outputs": [
        {
          "output_type": "stream",
          "name": "stdout",
          "text": [
            "maxPD_negatif:   -2.4 mV\n",
            "minPD_negatif:   -28.2 mV\n",
            "deltaPD_negatif:  25.8 mV\n",
            "Jumlah PD negatif:  2153\n"
          ]
        }
      ]
    },
    {
      "cell_type": "code",
      "source": [
        "df = pd.concat([PD_positif,PD_negatif])\n",
        "print(df)"
      ],
      "metadata": {
        "colab": {
          "base_uri": "https://localhost:8080/"
        },
        "id": "28bDiYBBX9PV",
        "outputId": "064f8c22-1a0b-4093-eb3c-9e2e1b045147"
      },
      "execution_count": 68,
      "outputs": [
        {
          "output_type": "stream",
          "name": "stdout",
          "text": [
            "      Times(us)  Amplitude(mV) Status\n",
            "66        0.264            3.8     pd\n",
            "444       1.776            3.0     pd\n",
            "459       1.836            2.2     pd\n",
            "823       3.292            2.6     pd\n",
            "1759      7.036            2.2     pd\n",
            "...         ...            ...    ...\n",
            "6987     27.948           -2.4     pd\n",
            "6989     27.956           -2.4     pd\n",
            "6993     27.972           -2.4     pd\n",
            "6996     27.984           -2.4     pd\n",
            "6998     27.992           -2.4     pd\n",
            "\n",
            "[3012 rows x 3 columns]\n"
          ]
        }
      ]
    },
    {
      "cell_type": "code",
      "source": [
        "from matplotlib import pyplot\n",
        "df.hist()\n",
        "pyplot.show()"
      ],
      "metadata": {
        "colab": {
          "base_uri": "https://localhost:8080/",
          "height": 281
        },
        "id": "S-gtc8nwY65H",
        "outputId": "91eaf060-e85b-4657-d2bf-57a63c489b7a"
      },
      "execution_count": 69,
      "outputs": [
        {
          "output_type": "display_data",
          "data": {
            "text/plain": [
              "<Figure size 432x288 with 2 Axes>"
            ],
            "image/png": "[encoded data removed]"
          },
          "metadata": {
            "needs_background": "light"
          }
        }
      ]
    },
    {
      "cell_type": "code",
      "source": [
        "from pandas.plotting import lag_plot\n",
        "lag_plot(df['Amplitude(mV)'])\n",
        "pyplot.show()"
      ],
      "metadata": {
        "colab": {
          "base_uri": "https://localhost:8080/",
          "height": 279
        },
        "id": "EFeWdKV8ZXUd",
        "outputId": "9a265813-fab7-401b-a316-acc8f29c5ce8"
      },
      "execution_count": 70,
      "outputs": [
        {
          "output_type": "display_data",
          "data": {
            "text/plain": [
              "<Figure size 432x288 with 1 Axes>"
            ],
            "image/png": "[encoded data removed]"
          },
          "metadata": {
            "needs_background": "light"
          }
        }
      ]
    },
    {
      "cell_type": "code",
      "source": [
        "lag_plot(df['Times(us)'])\n",
        "pyplot.show()"
      ],
      "metadata": {
        "colab": {
          "base_uri": "https://localhost:8080/",
          "height": 279
        },
        "id": "yeyDXwTFZ7T3",
        "outputId": "619d263a-3b5b-4f95-8d62-0024da15e10a"
      },
      "execution_count": 71,
      "outputs": [
        {
          "output_type": "display_data",
          "data": {
            "text/plain": [
              "<Figure size 432x288 with 1 Axes>"
            ],
            "image/png": "[encoded data removed]"
          },
          "metadata": {
            "needs_background": "light"
          }
        }
      ]
    },
    {
      "cell_type": "code",
      "source": [
        "import plotly.express as px\n",
        "fig = px.scatter(df, x=\"Times(us)\", y=\"Amplitude(mV)\")\n",
        "fig.show()"
      ],
      "metadata": {
        "colab": {
          "base_uri": "https://localhost:8080/",
          "height": 542
        },
        "id": "jhP7Gk7faJkh",
        "outputId": "443f1875-d583-40a5-f2b5-f5df1712c73f"
      },
      "execution_count": 74,
      "outputs": [
        {
          "output_type": "display_data",
          "data": {
            "text/html": [
              "<html>\n",
              "<head><meta charset=\"utf-8\" /></head>\n",
              "<body>\n",
              "    <div>            <script src=\"https://cdnjs.cloudflare.com/ajax/libs/mathjax/2.7.5/MathJax.js?config=TeX-AMS-MML_SVG\"></script><script type=\"text/javascript\">if (window.MathJax) {MathJax.Hub.Config({SVG: {font: \"STIX-Web\"}});}</script>                <script type=\"text/javascript\">window.PlotlyConfig = {MathJaxConfig: 'local'};</script>\n",
              "        <script src=\"https://cdn.plot.ly/plotly-2.8.3.min.js\"></script>                <div id=\"e8560b19-adc8-4601-8f47-611d2081e912\" class=\"plotly-graph-div\" style=\"height:525px; width:100%;\"></div>            <script type=\"text/javascript\">                                    window.PLOTLYENV=window.PLOTLYENV || {};                                    if (document.getElementById(\"e8560b19-adc8-4601-8f47-611d2081e912\")) {                    Plotly.newPlot(                        \"e8560b19-adc8-4601-8f47-611d2081e912\",                        [{\"hovertemplate\":\"Times(us)=%{x}<br>Amplitude(mV)=%{y}<extra></extra>\",\"legendgroup\":\"\",\"marker\":{\"color\":\"#636efa\",\"symbol\":\"circle\"},\"mode\":\"markers\",\"name\":\"\",\"showlegend\":false,\"x\":[0.26399999999999996,1.776,1.836,3.292,7.0360000000000005,7.064,7.119999999999999,7.148,7.156,7.212,7.268,8.436,8.52,8.54,8.576,13.879999999999999,13.927999999999999,13.932,13.936,13.94,13.944,13.947999999999999,13.952,13.956,13.96,13.964,13.968,13.972,13.975999999999999,13.98,13.984,13.988000000000001,13.991999999999999,13.995999999999999,14.0,14.004,14.008000000000001,14.012,14.016,14.02,14.024,14.028,14.032,14.036000000000001,14.04,14.044,14.048,14.052,14.056000000000001,14.059999999999999,14.064,14.068,14.072000000000001,14.076,14.08,14.084,14.088,14.092,14.096,14.1,14.104000000000001,14.107999999999999,14.112,14.116,14.120000000000001,14.124,14.128,14.132,14.136,14.14,14.144,14.148000000000001,14.152,14.155999999999999,14.16,14.164,14.168000000000001,14.171999999999999,14.176,14.18,14.184,14.188,14.192,14.196,14.2,14.204,14.208,14.212,14.216000000000001,14.219999999999999,14.224,14.228,14.232000000000001,14.236,14.239999999999998,14.244,14.248,14.252,14.256,14.260000000000002,14.264,14.267999999999999,14.272,14.276,14.284,14.916,14.92,14.924,14.928,14.932,14.936,14.94,14.943999999999999,14.948,14.952,14.956000000000001,14.96,14.963999999999999,14.968,14.972,14.976,14.98,14.984,14.988,14.991999999999999,14.996,15.0,15.004000000000001,15.008,15.012,15.016,15.02,15.024000000000001,15.028,15.032,15.036,15.04,15.044,15.048,15.052,15.056,15.06,15.064,15.068,15.072000000000001,15.075999999999999,15.08,15.084,15.088000000000001,15.092,15.096,15.1,15.104,15.108,15.112,15.116000000000001,15.12,15.123999999999999,15.128,15.132,15.136000000000001,15.14,15.144,15.148,15.152,15.156,15.16,15.164000000000001,15.168,15.172,15.176,15.18,15.184000000000001,15.187999999999999,15.192,15.196,15.2,15.204,15.208,15.212,15.216,15.22,15.224,15.228,15.232,15.235999999999999,15.24,15.244,15.248000000000001,15.252,15.255999999999998,15.26,15.264000000000001,15.268,15.271999999999998,15.276000000000002,15.28,15.284,15.288,15.291999999999998,15.296000000000001,15.299999999999999,15.304000000000002,15.308,15.311999999999998,15.316,15.319999999999999,15.324000000000002,15.328,15.332,15.336,15.339999999999998,15.344000000000001,15.347999999999999,15.352000000000002,15.356,15.36,15.364,15.367999999999999,15.372000000000002,15.376,15.379999999999999,15.384,15.388,15.392000000000001,15.395999999999999,15.400000000000002,15.404,15.408,15.412,15.415999999999999,15.420000000000002,15.424,15.427999999999999,15.432,15.436,15.440000000000001,15.443999999999999,15.447999999999999,15.452,15.456,16.116,16.12,16.124,16.128,16.132,16.136,16.14,16.144,16.148,16.152,16.156,16.16,16.164,16.168,16.172,16.176,16.18,16.184,16.188000000000002,16.192,16.195999999999998,16.2,16.204,16.208000000000002,16.212,16.215999999999998,16.22,16.224,16.228,16.232,16.235999999999997,16.240000000000002,16.244,16.248,16.252,16.256,16.26,16.264,16.268,16.272,16.276,16.28,16.284,16.288,16.291999999999998,16.296000000000003,16.3,16.304,16.308,16.311999999999998,16.316000000000003,16.32,16.324,16.328,16.331999999999997,16.336000000000002,16.34,16.344,16.348,16.352,16.356,16.36,16.364,16.368,16.372,16.376,16.38,16.384,16.387999999999998,16.392000000000003,16.396,16.4,16.404,16.407999999999998,16.412000000000003,16.416,16.419999999999998,16.424,16.428,16.432000000000002,16.436,16.439999999999998,16.444,16.448,16.452,16.456,16.46,16.464,16.468,16.472,16.476,16.48,16.484,16.488,16.492,16.496,16.5,16.504,16.508,16.512,16.516,16.52,16.524,16.528000000000002,16.532,16.535999999999998,16.54,16.544,16.548000000000002,16.552,16.555999999999997,16.560000000000002,16.564,16.568,16.572,16.575999999999997,16.580000000000002,16.584,16.588,16.592,16.596,16.6,16.604,16.608,16.612,16.616000000000003,16.62,16.624,16.628,16.636000000000003,17.3,17.312,17.32,17.328,17.332,17.336000000000002,17.34,17.343999999999998,17.348,17.352,17.356,17.36,17.363999999999997,17.368000000000002,17.372,17.376,17.38,17.384,17.388,17.392,17.396,17.4,17.404,17.408,17.412,17.416,17.419999999999998,17.424,17.428,17.432,17.436,17.439999999999998,17.444000000000003,17.448,17.452,17.456,17.459999999999997,17.464000000000002,17.468,17.472,17.476,17.48,17.484,17.488,17.492,17.496,17.5,17.504,17.508,17.512,17.516,17.520000000000003,17.524,17.528,17.532,17.535999999999998,17.540000000000003,17.544,17.548,17.552,17.556,17.560000000000002,17.564,17.567999999999998,17.572,17.576,17.580000000000002,17.584,17.588,17.592,17.596,17.6,17.604,17.608,17.612000000000002,17.616,17.62,17.624,17.628,17.632,17.636,17.64,17.644,17.648,17.652,17.656,17.66,17.663999999999998,17.668,17.672,17.676000000000002,17.68,17.683999999999997,17.688000000000002,17.692,17.696,17.7,17.703999999999997,17.708000000000002,17.712,17.716,17.72,17.723999999999997,17.728,17.732,17.736,17.74,17.744000000000003,17.748,17.752,17.756,17.759999999999998,17.764000000000003,17.768,17.772,17.776,17.779999999999998,17.784000000000002,17.788,17.796,18.508,18.516000000000002,18.524,18.532,18.536,18.544,18.548,18.552,18.556,18.56,18.564,18.567999999999998,18.572000000000003,18.576,18.580000000000002,18.584,18.587999999999997,18.592000000000002,18.596,18.6,18.604,18.607999999999997,18.612000000000002,18.616,18.62,18.624,18.628,18.632,18.636,18.64,18.644,18.648,18.652,18.656,18.66,18.663999999999998,18.668000000000003,18.672,18.676,18.68,18.684,18.688000000000002,18.692,18.695999999999998,18.7,18.704,18.708000000000002,18.712,18.715999999999998,18.72,18.724,18.728,18.732,18.736,18.74,18.744,18.748,18.752,18.756,18.76,18.764,18.768,18.772,18.776,18.78,18.784,18.788,18.791999999999998,18.796,18.8,18.804000000000002,18.808,18.811999999999998,18.816000000000003,18.82,18.824,18.828,18.831999999999997,18.836000000000002,18.84,18.844,18.848,18.851999999999997,18.856,18.86,18.864,18.868,18.872,18.876,18.88,18.887999999999998,18.892000000000003,18.9,18.907999999999998,18.919999999999998,18.927999999999997,19.676,19.684,19.695999999999998,19.708,19.720000000000002,19.728,19.735999999999997,19.740000000000002,19.748,19.756,19.76,19.764,19.768,19.776,19.78,19.784,19.788,19.791999999999998,19.796000000000003,19.8,19.804,19.808,19.811999999999998,19.816000000000003,19.82,19.823999999999998,19.828,19.832,19.836000000000002,19.84,19.843999999999998,19.848,19.852,19.856,19.86,19.864,19.868,19.872,19.876,19.88,19.884,19.888,19.892,19.896,19.9,19.904,19.908,19.916,19.924,19.928,19.936,19.944,19.948,19.952,19.956,19.972,19.979999999999997,20.0,20.816,20.823999999999998,20.836,20.843999999999998,20.848000000000003,20.86,20.868000000000002,20.872,20.88,20.888,20.896,20.9,20.908,20.916,20.919999999999998,20.924000000000003,20.928,20.932,20.936,20.944000000000003,20.948,20.951999999999998,20.956,20.96,20.964000000000002,20.968,20.971999999999998,20.976,20.98,20.984,20.988,20.992,20.996,21.0,21.004,21.008,21.012,21.016000000000002,21.02,21.028,21.032,21.036,21.04,21.048,21.056,21.060000000000002,21.064,21.067999999999998,21.076,21.084,21.087999999999997,21.096,22.016000000000002,22.028,22.036,22.048,22.056,22.067999999999998,22.076,22.084,22.092000000000002,22.096,22.104,22.112000000000002,22.116,22.12,22.124,22.128,22.132,22.136,22.14,22.148,22.156,22.16,22.168,22.176,22.18,22.184,22.188000000000002,22.192,22.195999999999998,22.204,22.208000000000002,22.215999999999998,22.220000000000002,22.224,22.228,22.235999999999997,22.240000000000002,22.248,22.252,22.26,22.264,22.268,22.28,22.288,22.3,22.308,23.224,23.232,23.244,23.252,23.264,23.272,23.276,23.28,23.284,23.288,23.296,23.3,23.308,23.316,23.32,23.323999999999998,23.328,23.336000000000002,23.343999999999998,23.348,23.356,23.363999999999997,23.368000000000002,23.372,23.376,23.38,23.383999999999997,23.388,23.392,23.4,23.404,23.408,23.412,23.419999999999998,23.428,23.432,23.436,23.439999999999998,23.448,23.456,23.459999999999997,23.464000000000002,23.468,23.472,23.476,23.484,23.492,23.496,23.504,23.512,23.524,23.532,23.560000000000002,23.587999999999997,24.456,24.476,24.488,24.504,24.516000000000002,24.532,24.536,24.544,24.548,24.556,24.56,24.567999999999998,24.576,24.58,24.587999999999997,24.596,24.604,24.608,24.616,24.624,24.628,24.636,24.644,24.648,24.652,24.656,24.663999999999998,24.668000000000003,24.672,24.676,24.68,24.684,24.688000000000002,24.692,24.695999999999998,24.7,24.708000000000002,24.715999999999998,24.72,24.728,24.736,24.748,24.756,24.776,25.764,25.784,25.848,25.856,25.868000000000002,25.876,25.888,25.932,25.952,25.968,25.979999999999997,25.988,25.996,26.024,26.056,26.064,27.176,27.492,0.008,0.028,0.26,0.868,0.888,0.9239999999999999,0.944,0.952,0.964,0.9680000000000001,0.972,0.98,0.9879999999999999,0.9960000000000001,1.0,1.008,1.016,1.024,1.028,1.032,1.0359999999999998,1.044,1.048,1.0559999999999998,1.064,1.068,1.072,1.0759999999999998,1.0839999999999999,1.088,1.092,1.1,1.1039999999999999,1.108,1.1119999999999999,1.1159999999999999,1.12,1.1239999999999999,1.1280000000000001,1.132,1.136,1.1400000000000001,1.144,1.1480000000000001,1.152,1.1560000000000001,1.16,1.1680000000000001,1.1760000000000002,1.18,1.184,1.1880000000000002,1.192,1.1960000000000002,1.2,1.204,1.212,1.2160000000000002,1.22,1.224,1.232,1.236,1.24,1.244,1.252,1.256,1.26,1.264,1.268,1.272,1.276,1.28,1.288,1.296,1.3,1.308,1.316,1.328,1.336,1.3439999999999999,1.356,1.38,1.4,1.42,2.2479999999999998,2.26,2.2680000000000002,2.2800000000000002,2.288,2.3,2.304,2.3120000000000003,2.316,2.3240000000000003,2.332,2.3360000000000003,2.344,2.3520000000000003,2.36,2.3640000000000003,2.372,2.38,2.388,2.3920000000000003,2.4,2.4040000000000004,2.408,2.412,2.416,2.42,2.424,2.428,2.436,2.444,2.448,2.456,2.46,2.464,2.468,2.472,2.476,2.48,2.484,2.492,2.5,2.504,2.508,2.512,2.516,2.52,2.524,2.532,2.536,2.54,2.548,2.552,2.56,2.5679999999999996,2.576,2.58,2.588,2.5959999999999996,2.604,2.6079999999999997,2.616,2.624,2.632,2.64,2.652,2.66,2.668,2.68,2.6879999999999997,2.7,2.736,2.8,3.528,3.556,3.568,3.576,3.584,3.588,3.596,3.604,3.608,3.616,3.62,3.6279999999999997,3.6399999999999997,3.648,3.652,3.66,3.6679999999999997,3.672,3.676,3.6799999999999997,3.688,3.6959999999999997,3.7,3.704,3.7079999999999997,3.712,3.716,3.7199999999999998,3.7239999999999998,3.728,3.732,3.7359999999999998,3.744,3.7479999999999998,3.752,3.7560000000000002,3.76,3.764,3.7720000000000002,3.776,3.78,3.7840000000000003,3.788,3.792,3.7960000000000003,3.8,3.804,3.808,3.8120000000000003,3.8160000000000003,3.82,3.8240000000000003,3.8279999999999994,3.8360000000000003,3.84,3.844,3.8480000000000003,3.856,3.864,3.868,3.876,3.8840000000000003,3.888,3.8920000000000003,3.8959999999999995,3.9,3.9040000000000004,3.912,3.92,3.924,3.9280000000000004,3.932,3.9400000000000004,3.948,3.9600000000000004,3.968,3.98,3.9879999999999995,4.024,4.044,4.0600000000000005,4.072,4.8,4.876,4.884,4.892,4.8999999999999995,4.912,4.92,4.932,4.9479999999999995,4.9559999999999995,4.968,4.976,4.988,4.992,4.996,5.004,5.012,5.0200000000000005,5.024,5.032,5.04,5.048,5.0520000000000005,5.06,5.068,5.072,5.08,5.088,5.096,5.1000000000000005,5.108,5.116,5.1240000000000006,5.128,5.132000000000001,5.135999999999999,5.14,5.144,5.148,5.152,5.156000000000001,5.16,5.164,5.172,5.180000000000001,5.184,5.191999999999999,5.2,5.208,5.212000000000001,5.22,5.228,5.232,5.24,5.248,5.256,5.264,5.268,5.276,5.284,5.295999999999999,5.32,5.332,5.34,5.351999999999999,5.36,5.42,5.4319999999999995,5.452,6.2,6.228000000000001,6.256,6.276,6.284000000000001,6.292,6.304,6.312,6.316,6.324,6.332,6.34,6.343999999999999,6.348,6.356,6.36,6.367999999999999,6.3759999999999994,6.388,6.396,6.404,6.408,6.412,6.416,6.42,6.4239999999999995,6.432,6.436,6.44,6.444,6.4479999999999995,6.452,6.4559999999999995,6.46,6.464,6.468,6.472,6.476,6.4799999999999995,6.488,6.492,6.496,6.5,6.508,6.516,6.5200000000000005,6.524,6.528,6.532,6.536,6.54,6.5440000000000005,6.548,6.5520000000000005,6.556,6.564,6.572,6.5760000000000005,6.58,6.584,6.588,6.592,6.6000000000000005,6.604,6.608,6.612,6.62,6.628,6.632000000000001,6.64,6.644,6.648,6.652,6.656000000000001,6.664,6.668,6.676,6.684,6.696,6.704,6.712000000000001,6.732,6.74,7.572,7.58,7.5920000000000005,7.6,7.612,7.62,7.627999999999999,7.635999999999999,7.64,7.648000000000001,7.655999999999999,7.659999999999999,7.664,7.668,7.672000000000001,7.676000000000001,7.68,7.683999999999999,7.692,7.696000000000001,7.700000000000001,7.704,7.712,7.716,7.720000000000001,7.723999999999999,7.728,7.732,7.736,7.74,7.747999999999999,7.752,7.756,7.760000000000001,7.764,7.768000000000001,7.771999999999999,7.776,7.78,7.784000000000001,7.788,7.791999999999999,7.795999999999999,7.8,7.804,7.808000000000001,7.812000000000001,7.815999999999999,7.819999999999999,7.824,7.828,7.835999999999999,7.843999999999999,7.848,7.852,7.856000000000001,7.859999999999999,7.864,7.868,7.872,7.880000000000001,7.8839999999999995,7.888,7.892,7.9,7.903999999999999,7.9079999999999995,7.912,7.916,7.920000000000001,7.927999999999999,7.9319999999999995,7.936,7.94,7.944000000000001,7.948,7.951999999999999,7.9559999999999995,7.96,7.964,7.9719999999999995,7.9799999999999995,7.984,7.992000000000001,8.0,8.004,8.012,8.02,8.032,8.04,8.048,8.068,8.851999999999999,8.888,8.908,8.916,8.927999999999999,8.936,8.940000000000001,8.943999999999999,8.948,8.952,8.956,8.963999999999999,8.972,8.976,8.98,8.984,8.988,8.991999999999999,8.996,9.0,9.008000000000001,9.011999999999999,9.016,9.02,9.028,9.032,9.04,9.048,9.052000000000001,9.056,9.06,9.064,9.068,9.072000000000001,9.075999999999999,9.084,9.088,9.092,9.096,9.104,9.108,9.112,9.116,9.120000000000001,9.123999999999999,9.128,9.132,9.136000000000001,9.14,9.143999999999998,9.148,9.152,9.16,9.164000000000001,9.168,9.171999999999999,9.176,9.18,9.184000000000001,9.188,9.192,9.196,9.2,9.204,9.208,9.216,9.22,9.224,9.228,9.232000000000001,9.235999999999999,9.24,9.244,9.252,9.26,9.264,9.272,9.28,9.283999999999999,9.292,9.3,9.312,9.32,9.328,9.336,9.352,9.364,9.384,9.412,10.112,10.244,10.271999999999998,10.28,10.299999999999999,10.308,10.32,10.328,10.34,10.347999999999999,10.356,10.360000000000001,10.368,10.376,10.38,10.388,10.392,10.4,10.408,10.411999999999999,10.42,10.428,10.431999999999999,10.44,10.448,10.452,10.459999999999999,10.468,10.472000000000001,10.475999999999999,10.484,10.488,10.492,10.496,10.504,10.512,10.516,10.524,10.532,10.540000000000001,10.543999999999999,10.552,10.56,10.564,10.572,10.58,10.588,10.596,10.6,10.608,10.616,10.62,10.628,10.636,10.652000000000001,10.66,10.664,10.672,10.684,10.692,10.7,10.712,10.72,10.74,10.784,10.84,10.852,10.86,11.559999999999999,11.58,11.600000000000001,11.608,11.616,11.623999999999999,11.636,11.644,11.652,11.656,11.668000000000001,11.671999999999999,11.684000000000001,11.691999999999998,11.7,11.708,11.716,11.719999999999999,11.728,11.736,11.74,11.748,11.756,11.76,11.768,11.772,11.776,11.780000000000001,11.783999999999999,11.792,11.796,11.8,11.804,11.812,11.82,11.824,11.831999999999999,11.84,11.844000000000001,11.848,11.851999999999999,11.86,11.868,11.872,11.876,11.879999999999999,11.884,11.888,11.895999999999999,11.904,11.908,11.912,11.916,11.924,11.928,11.932,11.936,11.943999999999999,11.952,11.96,11.963999999999999,11.972,11.98,11.988,11.991999999999999,12.0,12.008,12.02,12.064,12.092,12.112,12.132,12.952,12.959999999999999,12.972000000000001,12.979999999999999,13.0,13.008,13.020000000000001,13.028,13.036,13.056,13.064,13.072,13.076,13.084,13.091999999999999,13.1,13.104000000000001,13.112,13.12,13.124,13.132000000000001,13.139999999999999,13.148,13.152000000000001,13.156,13.16,13.168,13.176,13.18,13.184,13.196,13.200000000000001,13.203999999999999,13.212,13.216,13.224,13.228,13.232,13.24,13.244,13.248,13.251999999999999,13.26,13.268,13.271999999999998,13.28,13.284,13.288,13.292000000000002,13.296,13.299999999999999,13.304,13.308,13.315999999999999,13.324,13.328,13.336,13.344,13.348,13.352,13.356,13.360000000000001,13.363999999999999,13.372,13.38,13.383999999999999,13.392,13.4,13.411999999999999,13.427999999999999,13.448,13.456,13.504,14.315999999999999,14.32,14.324,14.328000000000001,14.331999999999999,14.336,14.34,14.344,14.348,14.352,14.356,14.36,14.364,14.368,14.372,14.376,14.379999999999999,14.384,14.388,14.392000000000001,14.396,14.399999999999999,14.404,14.408,14.412,14.416,14.42,14.424,14.427999999999999,14.432,14.436,14.440000000000001,14.443999999999999,14.448,14.452,14.456,14.46,14.464,14.468,14.472,14.475999999999999,14.48,14.484,14.488,14.491999999999999,14.496,14.5,14.504,14.508000000000001,14.511999999999999,14.516,14.52,14.524000000000001,14.528,14.532,14.536,14.54,14.544,14.548,14.552000000000001,14.556,14.559999999999999,14.564,14.568,14.572000000000001,14.576,14.58,14.584,14.588,14.592,14.596,14.600000000000001,14.604,14.608,14.612,14.616,14.620000000000001,14.623999999999999,14.628,14.632,14.636000000000001,14.64,14.644,14.648,14.652,14.656,14.66,14.664,14.668,14.671999999999999,14.676,14.68,14.684000000000001,14.688,14.691999999999998,14.696,14.7,14.704,14.708,14.712000000000002,14.716,14.719999999999999,14.724,14.728,14.732000000000001,14.735999999999999,14.74,14.744,14.748,14.752,14.756,14.76,14.764,14.768,14.772,14.776,14.780000000000001,14.783999999999999,14.788,14.792,14.796000000000001,14.8,14.803999999999998,14.808,14.812,14.816,14.82,14.824,14.828,14.831999999999999,14.836,14.84,14.844000000000001,14.848,14.852,14.856,14.86,14.864,14.868,14.872,14.876,14.879999999999999,15.492,15.5,15.504,15.508000000000001,15.512,15.515999999999998,15.520000000000001,15.524,15.528,15.532,15.536000000000001,15.540000000000001,15.543999999999999,15.548,15.552,15.556000000000001,15.56,15.563999999999998,15.568000000000001,15.572,15.576,15.58,15.583999999999998,15.588000000000001,15.591999999999999,15.596000000000002,15.6,15.604,15.608,15.611999999999998,15.616000000000001,15.62,15.624000000000002,15.628,15.631999999999998,15.636000000000001,15.639999999999999,15.644000000000002,15.648,15.652,15.656,15.659999999999998,15.664000000000001,15.668,15.671999999999999,15.676,15.68,15.684000000000001,15.687999999999999,15.692000000000002,15.696,15.7,15.704,15.708,15.712000000000002,15.716,15.719999999999999,15.724,15.728,15.732000000000001,15.736,15.739999999999998,15.744,15.748,15.752,15.756,15.760000000000002,15.764,15.767999999999999,15.772,15.776,15.780000000000001,15.784,15.787999999999998,15.792,15.796,15.8,15.804,15.807999999999998,15.812000000000001,15.815999999999999,15.82,15.824,15.828000000000001,15.832,15.835999999999999,15.840000000000002,15.844,15.848,15.852,15.855999999999998,15.860000000000001,15.863999999999999,15.868000000000002,15.872,15.875999999999998,15.88,15.883999999999999,15.888000000000002,15.892,15.896,15.9,15.903999999999998,15.908000000000001,15.911999999999999,15.916000000000002,15.92,15.924,15.928,15.931999999999999,15.936000000000002,15.94,15.943999999999999,15.948,15.951999999999998,15.956000000000001,15.959999999999999,15.964000000000002,15.968,15.972,15.976,15.979999999999999,15.984000000000002,15.988,15.991999999999999,15.996,16.0,16.004,16.008,16.011999999999997,16.016000000000002,16.02,16.024,16.028,16.032,16.036,16.04,16.044,16.048,16.052000000000003,16.056,16.06,16.064,16.072000000000003,16.688,16.696,16.7,16.704,16.708,16.712,16.716,16.72,16.724,16.728,16.732,16.736,16.74,16.744,16.748,16.752000000000002,16.756,16.759999999999998,16.764,16.768,16.772000000000002,16.776,16.779999999999998,16.784,16.788,16.792,16.796,16.799999999999997,16.804000000000002,16.808,16.812,16.816,16.82,16.824,16.828,16.832,16.836,16.84,16.844,16.848,16.852,16.855999999999998,16.86,16.864,16.868,16.872,16.875999999999998,16.880000000000003,16.884,16.888,16.892,16.895999999999997,16.900000000000002,16.904,16.908,16.912,16.916,16.92,16.924,16.928,16.932,16.936,16.94,16.944,16.948,16.951999999999998,16.956000000000003,16.96,16.964,16.968,16.971999999999998,16.976000000000003,16.98,16.983999999999998,16.988,16.992,16.996000000000002,17.0,17.003999999999998,17.008,17.012,17.016000000000002,17.02,17.024,17.028,17.032,17.036,17.04,17.044,17.048000000000002,17.052,17.056,17.06,17.064,17.068,17.072,17.076,17.08,17.084,17.088,17.092,17.096,17.099999999999998,17.104,17.108,17.112000000000002,17.116,17.119999999999997,17.124000000000002,17.128,17.132,17.136,17.139999999999997,17.144000000000002,17.148,17.152,17.156,17.159999999999997,17.164,17.168,17.172,17.176,17.180000000000003,17.184,17.188,17.192,17.195999999999998,17.200000000000003,17.204,17.208,17.212,17.215999999999998,17.220000000000002,17.224,17.227999999999998,17.232,17.240000000000002,17.868,17.876,17.880000000000003,17.887999999999998,17.892,17.896,17.900000000000002,17.904,17.907999999999998,17.912,17.916,17.92,17.924,17.927999999999997,17.932000000000002,17.936,17.94,17.944,17.948,17.952,17.956,17.96,17.964,17.968,17.972,17.976,17.98,17.983999999999998,17.988,17.992,17.996,18.0,18.003999999999998,18.008000000000003,18.012,18.016000000000002,18.02,18.023999999999997,18.028000000000002,18.032,18.036,18.04,18.043999999999997,18.048000000000002,18.052,18.056,18.06,18.064,18.068,18.072,18.076,18.08,18.084000000000003,18.088,18.092,18.096,18.099999999999998,18.104000000000003,18.108,18.112,18.116,18.12,18.124000000000002,18.128,18.131999999999998,18.136,18.14,18.144000000000002,18.148,18.151999999999997,18.156,18.16,18.164,18.168,18.172,18.176,18.18,18.184,18.188,18.192,18.196,18.2,18.204,18.208,18.212,18.216,18.22,18.224,18.227999999999998,18.232,18.236,18.240000000000002,18.244,18.247999999999998,18.252000000000002,18.256,18.26,18.264,18.267999999999997,18.272000000000002,18.276,18.28,18.284,18.287999999999997,18.292,18.296,18.3,18.304,18.308,18.312,18.316,18.32,18.323999999999998,18.328000000000003,18.332,18.336,18.34,18.343999999999998,18.348000000000003,18.352,18.355999999999998,18.36,18.364,18.368000000000002,18.372,18.376,18.38,18.384,18.388,18.392,18.4,18.412,18.419999999999998,18.428,19.052,19.06,19.064,19.072,19.080000000000002,19.084,19.088,19.092,19.096,19.1,19.104,19.108,19.112,19.116,19.12,19.124,19.128,19.131999999999998,19.136000000000003,19.14,19.144,19.148,19.151999999999997,19.156000000000002,19.16,19.164,19.168,19.171999999999997,19.176000000000002,19.18,19.184,19.188,19.192,19.196,19.2,19.204,19.208,19.212,19.216,19.22,19.224,19.227999999999998,19.232000000000003,19.236,19.24,19.244,19.248,19.252000000000002,19.256,19.259999999999998,19.264,19.268,19.272000000000002,19.276,19.279999999999998,19.284,19.288,19.292,19.296,19.3,19.304,19.308,19.312,19.316,19.32,19.324,19.328,19.332,19.336,19.34,19.344,19.348,19.352,19.355999999999998,19.36,19.364,19.368000000000002,19.372,19.375999999999998,19.380000000000003,19.384,19.388,19.392,19.395999999999997,19.400000000000002,19.404,19.408,19.412,19.415999999999997,19.42,19.424,19.428,19.432,19.436,19.44,19.444,19.448,19.451999999999998,19.456000000000003,19.46,19.464,19.468,19.471999999999998,19.476000000000003,19.48,19.483999999999998,19.488,19.491999999999997,19.5,19.504,19.508,19.512,19.52,19.532,20.163999999999998,20.176000000000002,20.183999999999997,20.192,20.2,20.203999999999997,20.208000000000002,20.212,20.22,20.224,20.228,20.232,20.236,20.24,20.244,20.248,20.252,20.256,20.259999999999998,20.264000000000003,20.268,20.272,20.276,20.279999999999998,20.284000000000002,20.288,20.292,20.296,20.299999999999997,20.304000000000002,20.308,20.312,20.316,20.32,20.324,20.328,20.332,20.336,20.34,20.344,20.348,20.352,20.355999999999998,20.360000000000003,20.364,20.368,20.372,20.375999999999998,20.380000000000003,20.384,20.387999999999998,20.392,20.396,20.400000000000002,20.404,20.407999999999998,20.412,20.416,20.42,20.424,20.428,20.432,20.436,20.44,20.444,20.448,20.452,20.456,20.46,20.464,20.468,20.472,20.476,20.48,20.483999999999998,20.488,20.492,20.496000000000002,20.5,20.503999999999998,20.508,20.512,20.516000000000002,20.52,20.523999999999997,20.528000000000002,20.532,20.536,20.54,20.543999999999997,20.548000000000002,20.552,20.556,20.56,20.564,20.568,20.572,20.576,20.58,20.584000000000003,20.588,20.592,20.596,20.599999999999998,20.604000000000003,20.612,20.64,20.688,21.304000000000002,21.311999999999998,21.32,21.324,21.331999999999997,21.34,21.344,21.352,21.356,21.36,21.364,21.368,21.372,21.376,21.38,21.384,21.387999999999998,21.392,21.396,21.4,21.404,21.407999999999998,21.412000000000003,21.416,21.42,21.424,21.427999999999997,21.432000000000002,21.436,21.44,21.444,21.447999999999997,21.452,21.456,21.46,21.464,21.468,21.472,21.476,21.48,21.483999999999998,21.488000000000003,21.492,21.496,21.5,21.503999999999998,21.508000000000003,21.512,21.516,21.52,21.524,21.528000000000002,21.532,21.535999999999998,21.54,21.544,21.548000000000002,21.552,21.556,21.56,21.564,21.568,21.572,21.576,21.58,21.584,21.588,21.592,21.596,21.6,21.604,21.608,21.612,21.616,21.62,21.624000000000002,21.628,21.631999999999998,21.636,21.64,21.644000000000002,21.648,21.651999999999997,21.656000000000002,21.66,21.664,21.668,21.671999999999997,21.676000000000002,21.68,21.684,21.688,21.691999999999997,21.696,21.7,21.704,21.708,21.712,21.716,21.72,21.724,21.732000000000003,21.736,21.74,21.744,21.752000000000002,21.759999999999998,21.764,21.772000000000002,21.78,21.8,22.472,22.492,22.52,22.528,22.535999999999998,22.540000000000003,22.544,22.548000000000002,22.552,22.555999999999997,22.564,22.568,22.572,22.575999999999997,22.584,22.588,22.592,22.596,22.6,22.604,22.608,22.612,22.616000000000003,22.62,22.624,22.628,22.631999999999998,22.636000000000003,22.64,22.644,22.648,22.652,22.656000000000002,22.66,22.663999999999998,22.668,22.672,22.676000000000002,22.68,22.684,22.688,22.692,22.696,22.7,22.704,22.708,22.712,22.716,22.72,22.724,22.728,22.732,22.736,22.74,22.744,22.748,22.752,22.756,22.759999999999998,22.764,22.768,22.772000000000002,22.776,22.779999999999998,22.784000000000002,22.788,22.792,22.796,22.799999999999997,22.804000000000002,22.808,22.812,22.816,22.819999999999997,22.824,22.828,22.832,22.836,22.84,22.844,22.848,22.852,22.855999999999998,22.860000000000003,22.864,22.868,22.872,22.875999999999998,22.880000000000003,22.884,22.887999999999998,22.892,22.895999999999997,22.900000000000002,22.904,22.908,22.912,22.916,22.92,22.924,22.928,22.932,22.936,22.94,22.944,22.948,22.951999999999998,22.956,22.96,22.964,22.968,22.972,22.976000000000003,22.983999999999998,22.988,22.996000000000002,23.0,23.012,23.016000000000002,23.032,23.712,23.744,23.752,23.772,23.784000000000002,23.788,23.796,23.8,23.808,23.811999999999998,23.816,23.82,23.824,23.828,23.832,23.836,23.84,23.844,23.848,23.852,23.856,23.86,23.864,23.868,23.872,23.876,23.88,23.884,23.887999999999998,23.892,23.896,23.900000000000002,23.904,23.907999999999998,23.912,23.916,23.92,23.924,23.927999999999997,23.932000000000002,23.936,23.94,23.944,23.947999999999997,23.952,23.956,23.96,23.964,23.968,23.972,23.976,23.98,23.983999999999998,23.988000000000003,23.992,23.996,24.0,24.003999999999998,24.008000000000003,24.012,24.016,24.02,24.023999999999997,24.028000000000002,24.032,24.036,24.04,24.044,24.048000000000002,24.052,24.056,24.06,24.064,24.068,24.072,24.076,24.08,24.084,24.088,24.092,24.096,24.1,24.104000000000003,24.108,24.112,24.116,24.12,24.124000000000002,24.128,24.131999999999998,24.136,24.14,24.144000000000002,24.148,24.151999999999997,24.156,24.16,24.164,24.168,24.172,24.176000000000002,24.18,24.184,24.188,24.192,24.196,24.2,24.204,24.208,24.212,24.216,24.22,24.224,24.227999999999998,24.236,24.24,24.244,24.247999999999998,24.256,24.264,24.284,24.984,24.992,25.004,25.012,25.024,25.032,25.044,25.048000000000002,25.052,25.060000000000002,25.068,25.072,25.075999999999997,25.080000000000002,25.088,25.096,25.1,25.104,25.108,25.112,25.116000000000003,25.12,25.124,25.128,25.131999999999998,25.136000000000003,25.14,25.144,25.148,25.151999999999997,25.156000000000002,25.16,25.164,25.168,25.172,25.176000000000002,25.18,25.184,25.188,25.192,25.196,25.2,25.204,25.208,25.212,25.216,25.22,25.227999999999998,25.232000000000003,25.236,25.24,25.244,25.248,25.252000000000002,25.256,25.259999999999998,25.264,25.268,25.272000000000002,25.276,25.279999999999998,25.284,25.288,25.292,25.296,25.299999999999997,25.304000000000002,25.308,25.312,25.316,25.32,25.324,25.328,25.332,25.336,25.34,25.344,25.348,25.352,25.355999999999998,25.36,25.364,25.368,25.372,25.375999999999998,25.380000000000003,25.384,25.388,25.392,25.395999999999997,25.400000000000002,25.404,25.408,25.412,25.415999999999997,25.42,25.424,25.428,25.432,25.436,25.44,25.444,25.448,25.451999999999998,25.46,25.468,25.471999999999998,25.48,25.488,25.496000000000002,25.5,25.508,25.516000000000002,25.564,26.284000000000002,26.291999999999998,26.34,26.36,26.372,26.376,26.384,26.392,26.396,26.404,26.412,26.416,26.424,26.427999999999997,26.432,26.436,26.44,26.444,26.448,26.452,26.456,26.46,26.464,26.468,26.472,26.476,26.48,26.483999999999998,26.488,26.492,26.496,26.5,26.503999999999998,26.508000000000003,26.512,26.516000000000002,26.52,26.523999999999997,26.528000000000002,26.532,26.536,26.54,26.543999999999997,26.548000000000002,26.552,26.556,26.56,26.564,26.568,26.572,26.576,26.58,26.584000000000003,26.588,26.592,26.596,26.599999999999998,26.604000000000003,26.608,26.612,26.616,26.62,26.624000000000002,26.628,26.631999999999998,26.636,26.64,26.644000000000002,26.648,26.652,26.656,26.66,26.664,26.668,26.672,26.676,26.68,26.684,26.688,26.692,26.696,26.7,26.704,26.712,26.716,26.724,26.727999999999998,26.732,26.740000000000002,26.747999999999998,26.756,26.76,26.767999999999997,26.776,26.787999999999997,26.8,26.804,26.816,26.823999999999998,27.648,27.676000000000002,27.692,27.759999999999998,27.768,27.776,27.788,27.796,27.804,27.816,27.824,27.836,27.844,27.852,27.872,27.88,27.900000000000002,27.908,27.928,27.936,27.948,27.956000000000003,27.971999999999998,27.983999999999998,27.991999999999997],\"xaxis\":\"x\",\"y\":[3.8,3.0,2.2,2.6,2.2,2.2,2.2,2.2,2.2,2.2,2.2,2.2,2.2,2.2,2.2,3.0,2.6,3.4,4.6,7.2,5.4,6.8,8.0,8.8,8.4,9.2,7.6,9.6,8.8,10.0,11.2,11.6,13.6,13.2,13.2,13.6,13.2,15.0,14.6,15.0,15.8,15.4,17.4,17.4,19.8,20.6,21.0,21.0,19.400000000000002,19.8,20.6,21.4,19.8,18.599999999999998,18.599999999999998,19.8,21.0,21.0,24.0,21.8,22.8,20.6,19.0,21.4,20.2,20.6,19.8,18.2,18.2,18.599999999999998,19.0,19.8,20.2,19.0,17.8,16.6,15.8,17.8,15.8,15.0,13.6,13.6,14.0,13.6,15.0,13.2,13.2,11.6,10.8,10.8,10.0,10.8,8.4,8.0,6.8,5.8,7.2,6.8,7.2,5.8,5.0,3.4,3.0,3.4,2.2,2.2,3.0,2.6,3.8,3.4,4.6,4.6,5.4,6.8,5.8,8.0,7.2,8.4,8.8,8.0,10.4,8.4,10.4,10.4,10.4,12.0,11.6,12.8,12.4,13.2,12.8,14.6,14.0,14.0,15.4,14.6,16.2,15.4,16.2,16.6,16.6,17.4,17.0,18.2,17.4,18.599999999999998,18.2,18.2,19.400000000000002,18.2,19.400000000000002,19.0,19.400000000000002,19.8,19.8,20.2,19.8,21.0,19.400000000000002,21.4,20.6,19.8,22.2,19.8,21.8,21.0,20.6,22.2,20.6,21.4,21.4,21.4,21.0,21.8,21.0,21.0,21.4,20.6,21.8,20.6,21.0,21.0,20.2,21.0,20.2,20.6,19.8,20.2,19.8,19.400000000000002,19.8,19.0,19.8,18.599999999999998,18.599999999999998,18.599999999999998,17.8,18.2,17.4,17.8,16.6,17.4,16.6,16.2,17.0,15.0,16.6,14.6,14.6,15.4,13.2,14.6,13.2,13.2,12.8,12.4,12.0,11.6,11.6,10.4,11.6,9.2,11.2,8.4,8.8,10.0,7.6,8.0,6.8,7.6,7.2,5.4,6.8,5.0,5.4,4.6,4.2,4.6,2.2,3.4,3.4,2.6,2.2,3.0,3.4,3.8,3.0,4.6,5.0,2.6,6.4,4.2,8.0,5.0,6.4,8.0,5.8,8.0,7.2,8.4,8.0,8.0,9.2,8.4,8.4,9.6,10.4,9.6,10.0,11.2,10.8,11.2,10.8,11.6,11.2,12.0,11.6,12.0,12.4,11.6,13.2,12.8,12.0,14.0,12.8,13.2,13.6,13.6,14.0,13.6,14.0,14.0,14.6,13.6,15.0,14.6,14.0,15.0,13.6,15.4,13.6,15.0,14.6,14.0,15.4,13.6,15.0,14.6,14.0,15.0,14.0,15.0,14.6,14.6,14.6,14.0,14.0,14.0,14.0,13.6,14.0,13.2,13.6,13.2,12.8,13.6,12.0,13.2,12.4,12.0,12.4,11.6,12.0,11.6,11.6,11.6,10.8,10.8,11.2,10.4,10.4,10.4,9.2,10.4,8.8,9.2,9.2,8.0,9.2,7.6,8.0,8.0,7.2,7.6,6.4,7.2,5.8,6.4,5.8,5.0,5.8,4.2,5.0,4.2,3.8,3.8,3.4,3.0,2.2,3.4,2.6,2.2,2.6,3.4,3.0,3.0,3.0,3.8,3.0,4.2,3.4,4.2,4.2,4.6,5.0,4.2,5.8,4.2,5.8,5.4,5.4,6.8,5.0,6.8,5.8,6.8,7.2,6.8,7.2,6.8,7.2,7.2,8.0,7.2,7.6,8.4,7.6,8.4,7.6,8.8,8.0,8.4,8.8,8.0,9.2,8.0,9.2,8.8,8.4,9.6,8.0,9.6,8.8,8.8,9.2,8.8,9.2,9.2,9.2,8.8,9.6,8.4,9.2,9.6,8.4,9.6,8.4,9.2,9.2,8.8,8.4,8.8,8.8,8.4,9.2,8.0,8.4,8.4,7.6,8.8,7.6,8.0,8.0,7.6,7.6,8.4,6.8,7.6,8.4,6.8,5.8,7.2,5.8,7.6,5.4,6.4,7.2,4.6,6.8,5.8,5.4,5.0,5.8,5.4,4.6,3.8,5.0,4.6,3.4,3.8,4.6,3.0,4.2,2.6,3.4,2.6,2.2,2.6,2.2,2.2,3.0,2.2,2.6,3.0,2.2,3.0,3.4,2.6,3.4,2.6,3.4,3.0,3.4,3.4,3.0,4.2,3.4,3.8,4.2,3.4,4.6,3.4,4.2,4.2,3.4,5.0,3.4,5.0,3.8,4.6,4.2,4.2,5.0,4.2,5.0,4.2,4.6,4.6,5.0,4.6,4.6,5.0,4.2,5.8,4.2,5.0,5.4,4.2,5.8,4.6,5.0,5.0,4.6,5.4,4.2,5.4,4.6,4.6,5.0,4.6,5.0,4.2,5.0,4.2,4.6,4.2,4.2,4.6,3.8,5.0,3.4,4.2,4.2,3.4,4.6,3.4,4.2,3.8,3.4,3.4,3.4,3.4,3.4,3.4,2.6,3.8,2.2,3.0,3.0,2.2,3.8,3.4,2.2,3.4,3.0,2.6,2.6,2.2,2.2,2.2,2.2,2.6,3.0,2.2,3.0,3.0,2.6,3.0,2.2,3.4,3.0,2.6,2.6,3.4,2.6,3.4,2.6,3.0,3.0,3.4,3.0,3.0,3.0,2.6,3.4,2.6,3.4,3.0,2.6,3.4,2.2,3.4,2.6,3.0,3.0,2.6,3.0,2.2,3.0,2.6,3.0,2.6,2.6,3.0,3.8,2.6,4.2,4.2,4.2,2.2,2.2,3.0,2.6,2.2,2.6,2.2,2.6,2.2,2.2,2.2,3.0,3.0,2.2,3.0,3.4,2.2,3.0,3.0,3.4,2.2,2.6,3.0,2.2,3.4,3.0,2.2,2.6,3.0,2.2,3.0,2.2,3.4,2.2,2.6,2.6,2.2,3.4,2.2,3.0,2.2,2.6,2.6,2.6,3.0,3.0,2.2,2.6,2.6,3.0,3.0,2.2,2.2,2.6,3.0,2.2,2.2,2.6,2.2,2.6,3.0,3.0,2.6,2.6,2.6,3.0,2.6,2.6,3.4,2.6,2.6,2.2,2.6,2.6,2.2,2.6,2.6,2.6,2.6,2.6,3.0,2.6,2.2,2.2,2.6,2.6,2.2,3.0,3.0,2.6,2.2,2.6,2.2,3.0,2.2,3.0,2.2,2.2,2.2,2.6,2.6,2.2,2.6,2.2,2.2,2.2,2.6,2.6,2.6,2.2,2.2,2.2,2.2,2.2,2.6,2.2,3.0,3.0,2.2,2.2,3.0,3.4,2.6,2.6,3.4,2.6,2.6,2.2,2.6,2.6,2.6,2.6,3.0,3.0,2.2,3.0,2.6,3.4,3.0,2.2,2.2,3.0,3.0,2.6,2.6,2.2,2.6,2.2,2.6,3.0,2.2,2.6,3.0,2.2,2.6,2.2,2.2,2.2,2.2,2.2,2.6,2.2,2.2,3.4,2.6,2.6,2.6,2.6,2.6,3.4,2.6,3.0,3.4,2.6,2.6,2.6,3.0,3.0,2.2,3.0,3.0,2.2,2.2,3.0,2.6,2.2,2.2,2.6,2.2,2.2,2.2,2.2,2.2,2.6,2.6,2.2,2.2,2.6,2.6,2.6,2.6,2.2,2.2,2.2,2.2,2.2,2.6,2.2,2.2,2.2,2.2,2.2,4.2,2.6,2.2,2.2,2.6,2.2,2.2,2.2,-2.4,-2.4,-2.8,-2.4,-2.4,-2.4,-2.4,-2.4,-2.4,-2.4,-2.4,-2.4,-2.4,-2.4,-2.8,-2.8,-4.4,-3.2,-2.4,-2.8,-3.2,-3.6,-2.8,-4.0,-2.8,-2.8,-2.8,-3.2,-3.6,-3.2,-2.8,-3.6,-2.4,-2.8,-2.8,-2.4,-3.2,-2.8,-2.4,-3.6,-2.4,-2.8,-2.8,-2.8,-2.4,-2.4,-3.6,-3.2,-3.2,-2.8,-2.8,-2.8,-2.8,-2.8,-2.4,-3.2,-3.6,-2.4,-2.8,-3.2,-3.6,-2.4,-2.4,-3.2,-3.2,-2.4,-2.4,-2.8,-2.4,-2.4,-2.4,-2.4,-3.2,-2.8,-2.4,-2.8,-2.8,-2.4,-2.8,-2.4,-2.4,-2.4,-2.8,-2.4,-2.4,-2.8,-2.8,-2.8,-2.8,-2.4,-2.4,-2.4,-2.8,-3.2,-2.4,-2.4,-3.2,-2.8,-2.8,-2.4,-3.2,-3.2,-2.4,-3.2,-3.2,-2.4,-2.4,-2.4,-2.8,-2.4,-2.8,-3.2,-3.6,-2.8,-3.2,-3.2,-2.4,-2.4,-2.8,-2.8,-2.4,-2.8,-2.8,-3.2,-3.2,-2.4,-2.8,-2.4,-2.4,-2.4,-2.4,-3.6,-2.4,-2.4,-3.2,-2.8,-2.8,-2.8,-2.8,-2.4,-2.4,-2.8,-2.8,-2.4,-2.4,-2.4,-2.8,-2.4,-2.8,-2.4,-2.4,-2.4,-2.4,-2.4,-2.4,-2.4,-2.4,-2.4,-2.4,-2.8,-2.4,-2.4,-3.2,-2.4,-2.4,-2.4,-2.4,-2.4,-2.8,-2.8,-2.8,-3.2,-3.2,-2.8,-2.4,-3.2,-3.6,-3.2,-2.4,-2.4,-3.2,-2.4,-3.2,-2.4,-3.2,-2.8,-2.4,-3.2,-3.6,-2.4,-3.2,-2.8,-2.4,-3.6,-3.2,-2.4,-2.8,-3.2,-2.4,-3.2,-2.4,-3.2,-2.8,-3.2,-2.8,-2.8,-2.8,-2.4,-3.2,-3.6,-2.4,-2.4,-3.2,-3.6,-2.8,-3.2,-3.2,-2.8,-2.4,-2.8,-2.8,-2.4,-2.8,-2.8,-2.4,-2.4,-2.4,-2.8,-2.8,-2.4,-3.2,-3.2,-2.4,-2.4,-2.4,-3.6,-2.8,-2.4,-3.6,-2.4,-2.4,-2.8,-2.4,-2.4,-2.8,-2.4,-2.4,-2.4,-2.4,-2.8,-2.4,-2.4,-2.4,-2.8,-2.4,-2.4,-2.4,-2.8,-2.8,-2.4,-2.8,-3.2,-2.4,-2.8,-3.2,-3.6,-2.8,-2.4,-3.2,-3.2,-2.4,-2.4,-2.4,-2.4,-2.4,-2.8,-2.4,-2.8,-2.4,-2.4,-3.2,-3.2,-2.4,-2.4,-3.2,-2.8,-3.2,-2.4,-3.6,-3.2,-2.4,-2.8,-2.8,-2.4,-2.8,-2.4,-3.2,-2.8,-2.4,-2.4,-2.4,-2.8,-2.4,-2.4,-2.4,-2.4,-2.4,-2.4,-2.4,-2.4,-2.4,-2.4,-2.4,-3.2,-3.2,-3.2,-2.4,-3.6,-2.4,-2.4,-2.4,-2.4,-3.2,-2.8,-3.6,-4.4,-3.2,-2.8,-2.8,-2.4,-2.8,-2.4,-3.2,-3.2,-2.4,-2.4,-3.2,-2.8,-2.8,-2.4,-2.8,-2.8,-3.2,-2.4,-3.2,-3.2,-3.6,-2.4,-2.8,-3.6,-4.0,-3.2,-3.6,-2.8,-3.2,-2.8,-3.2,-2.4,-3.2,-2.4,-3.2,-3.2,-3.6,-3.2,-2.8,-2.4,-3.2,-2.4,-3.2,-3.2,-2.4,-2.4,-3.2,-3.6,-2.8,-2.8,-3.2,-2.4,-2.4,-2.4,-2.4,-2.4,-2.4,-2.8,-2.8,-2.4,-2.4,-2.4,-2.4,-2.4,-2.4,-2.8,-2.8,-2.4,-2.8,-2.8,-2.4,-2.4,-2.4,-2.8,-2.4,-2.8,-2.4,-2.8,-2.8,-2.4,-2.8,-2.8,-3.6,-2.8,-2.8,-3.6,-3.6,-2.4,-3.2,-2.8,-2.8,-3.2,-2.4,-4.0,-3.6,-3.2,-2.8,-4.0,-2.4,-3.6,-2.8,-3.2,-3.6,-2.4,-3.6,-2.4,-3.6,-2.8,-2.8,-3.6,-2.4,-4.4,-2.4,-2.8,-5.2,-3.6,-3.6,-2.8,-2.8,-2.8,-4.0,-2.4,-2.8,-4.0,-3.6,-2.4,-4.0,-2.8,-4.4,-2.4,-3.2,-2.8,-2.4,-3.6,-2.8,-2.8,-2.8,-2.4,-3.2,-2.4,-2.8,-2.4,-2.8,-3.2,-3.2,-2.4,-2.8,-3.6,-2.4,-2.8,-2.8,-2.4,-2.4,-2.4,-2.4,-2.4,-2.4,-2.4,-2.4,-2.4,-2.8,-2.8,-2.4,-2.4,-2.4,-2.4,-2.8,-3.2,-3.2,-2.4,-2.4,-3.2,-2.4,-2.8,-2.4,-2.8,-3.2,-2.8,-2.4,-3.6,-3.6,-2.4,-3.6,-3.6,-2.4,-2.8,-3.2,-2.8,-2.8,-2.8,-3.6,-3.6,-2.4,-2.8,-3.6,-4.0,-2.8,-3.2,-3.2,-2.8,-3.6,-2.8,-3.6,-2.4,-3.6,-2.4,-2.8,-3.6,-3.6,-2.4,-3.2,-3.2,-2.8,-3.2,-2.8,-3.2,-2.4,-3.2,-2.4,-2.8,-3.2,-3.2,-2.8,-2.4,-2.8,-2.8,-2.4,-2.4,-2.8,-3.6,-2.8,-2.8,-3.6,-2.8,-2.4,-3.2,-2.8,-2.4,-2.8,-2.4,-3.6,-3.2,-2.8,-2.4,-2.4,-2.4,-2.4,-2.4,-2.4,-2.8,-2.8,-2.8,-2.8,-2.4,-2.8,-2.4,-2.4,-2.4,-2.4,-2.4,-2.4,-2.8,-3.2,-2.4,-2.8,-3.2,-2.4,-3.2,-3.6,-2.8,-2.4,-3.2,-2.8,-2.4,-2.8,-2.8,-2.4,-2.4,-2.8,-3.2,-2.8,-2.4,-3.2,-3.2,-2.4,-3.2,-3.2,-2.4,-2.4,-2.8,-2.8,-2.8,-2.4,-2.8,-3.2,-2.4,-2.8,-2.8,-2.4,-2.4,-2.4,-2.4,-2.8,-2.4,-2.8,-2.4,-2.4,-2.4,-2.4,-2.4,-2.4,-3.6,-2.4,-2.4,-2.4,-2.4,-4.0,-3.2,-2.8,-2.8,-2.4,-2.4,-2.4,-2.8,-2.4,-2.8,-2.8,-2.8,-2.4,-2.4,-2.4,-3.2,-2.4,-2.8,-2.8,-2.4,-2.8,-2.4,-2.4,-2.4,-2.4,-2.8,-3.2,-2.4,-2.8,-3.2,-3.6,-2.8,-2.8,-3.2,-3.2,-2.4,-2.4,-3.2,-3.2,-2.4,-2.8,-2.4,-2.4,-2.4,-2.4,-2.8,-2.8,-2.4,-2.4,-3.2,-3.2,-2.4,-2.4,-2.8,-3.2,-2.8,-2.4,-2.4,-2.8,-2.4,-2.4,-2.4,-2.8,-2.4,-2.4,-2.4,-2.4,-2.4,-2.4,-2.4,-2.8,-2.8,-2.8,-2.4,-2.4,-2.4,-2.4,-2.4,-2.4,-2.8,-2.4,-2.4,-2.8,-2.8,-2.4,-2.4,-3.2,-2.8,-3.6,-2.8,-4.0,-3.2,-2.4,-2.8,-3.2,-4.0,-2.4,-3.2,-3.2,-3.6,-2.4,-2.8,-2.8,-2.8,-3.2,-2.4,-2.8,-3.2,-2.4,-2.4,-2.8,-3.6,-2.8,-3.2,-3.2,-2.4,-2.4,-2.8,-2.4,-2.4,-2.4,-2.4,-3.2,-2.8,-2.8,-3.2,-2.8,-2.4,-2.8,-2.4,-2.4,-2.4,-3.2,-2.4,-2.4,-3.2,-2.4,-2.4,-2.4,-2.4,-2.4,-2.4,-2.8,-3.6,-4.8,-4.8,-5.6,-6.4,-7.2,-8.8,-8.4,-9.2,-8.0,-8.8,-10.200000000000001,-9.6,-12.200000000000001,-11.0,-12.200000000000001,-13.0,-12.200000000000001,-15.0,-14.6,-15.8,-15.8,-15.4,-15.8,-15.8,-17.4,-17.4,-18.4,-17.8,-18.4,-19.599999999999998,-19.599999999999998,-20.8,-20.8,-21.6,-21.2,-21.2,-21.2,-22.0,-22.4,-22.4,-23.599999999999998,-22.4,-24.0,-24.0,-24.400000000000002,-25.6,-24.8,-25.6,-24.400000000000002,-25.2,-25.2,-25.2,-26.599999999999998,-25.2,-27.0,-25.6,-26.599999999999998,-27.400000000000002,-27.0,-28.2,-27.0,-27.400000000000002,-26.599999999999998,-26.599999999999998,-27.0,-27.0,-27.799999999999997,-26.200000000000003,-27.400000000000002,-27.0,-27.0,-27.799999999999997,-27.0,-27.400000000000002,-26.599999999999998,-26.599999999999998,-25.6,-27.400000000000002,-23.2,-27.400000000000002,-25.6,-25.6,-25.2,-24.8,-25.2,-25.6,-24.0,-26.200000000000003,-24.0,-23.599999999999998,-24.0,-22.8,-23.599999999999998,-21.6,-24.0,-22.4,-21.6,-21.6,-21.6,-21.2,-21.2,-19.599999999999998,-20.0,-19.2,-18.4,-19.2,-17.8,-18.4,-17.8,-16.2,-17.8,-15.4,-16.2,-16.2,-13.799999999999999,-15.4,-12.6,-14.200000000000001,-12.6,-12.200000000000001,-12.200000000000001,-11.0,-11.799999999999999,-9.6,-11.0,-9.6,-8.8,-9.2,-7.6,-7.6,-6.4,-6.4,-6.0,-5.2,-5.6,-3.6,-4.8,-3.2,-3.6,-2.4,-2.4,-2.4,-3.2,-2.8,-4.0,-3.2,-5.2,-4.8,-4.8,-6.4,-4.8,-7.2,-6.0,-7.6,-7.6,-7.2,-8.8,-8.0,-9.6,-8.8,-10.200000000000001,-10.6,-10.6,-11.0,-11.0,-11.799999999999999,-11.799999999999999,-12.6,-12.6,-12.6,-13.799999999999999,-13.0,-14.6,-13.799999999999999,-14.6,-14.6,-14.6,-15.4,-15.0,-16.2,-15.4,-16.6,-15.8,-16.6,-17.0,-16.2,-18.4,-16.6,-17.8,-17.8,-17.0,-19.2,-17.4,-18.8,-18.8,-17.8,-19.2,-18.8,-19.2,-18.8,-19.599999999999998,-18.8,-19.599999999999998,-19.2,-19.2,-19.599999999999998,-19.2,-19.2,-19.599999999999998,-20.0,-19.2,-20.400000000000002,-19.2,-19.2,-20.0,-18.4,-20.0,-19.2,-18.8,-20.0,-17.8,-19.599999999999998,-18.8,-18.8,-18.8,-18.8,-18.4,-17.8,-18.4,-17.0,-18.4,-17.4,-17.0,-17.8,-16.2,-17.0,-16.6,-16.2,-16.2,-15.8,-15.8,-15.0,-15.8,-14.200000000000001,-15.4,-14.200000000000001,-13.799999999999999,-14.6,-13.0,-13.799999999999999,-13.0,-13.0,-12.6,-12.200000000000001,-12.200000000000001,-11.4,-12.200000000000001,-10.6,-11.0,-10.6,-9.6,-10.6,-8.8,-9.6,-8.4,-8.8,-8.4,-7.6,-7.6,-6.4,-7.2,-6.0,-6.4,-5.6,-4.8,-5.6,-4.0,-4.8,-3.6,-3.6,-3.2,-2.4,-3.2,-2.4,-2.4,-2.4,-3.2,-2.4,-4.0,-3.2,-4.4,-4.4,-4.4,-5.6,-4.4,-6.0,-5.2,-6.0,-6.4,-6.0,-6.8,-6.4,-7.6,-7.2,-7.6,-7.6,-8.0,-8.8,-8.0,-9.2,-8.0,-9.6,-9.2,-9.2,-10.6,-9.2,-11.0,-10.200000000000001,-10.6,-11.0,-10.6,-11.799999999999999,-11.0,-11.799999999999999,-11.4,-11.799999999999999,-12.200000000000001,-11.799999999999999,-12.200000000000001,-12.200000000000001,-12.6,-12.200000000000001,-13.0,-12.200000000000001,-13.4,-12.200000000000001,-12.200000000000001,-15.8,-11.4,-14.200000000000001,-12.200000000000001,-13.4,-13.799999999999999,-12.200000000000001,-14.200000000000001,-13.4,-13.0,-12.6,-13.799999999999999,-13.4,-12.6,-14.200000000000001,-13.4,-12.6,-13.4,-13.4,-14.200000000000001,-12.200000000000001,-13.4,-13.4,-13.0,-13.0,-13.0,-13.0,-13.0,-12.200000000000001,-12.6,-12.6,-12.200000000000001,-12.6,-12.6,-11.799999999999999,-12.200000000000001,-12.200000000000001,-12.200000000000001,-11.4,-11.799999999999999,-11.799999999999999,-10.200000000000001,-12.6,-9.6,-12.200000000000001,-10.6,-9.6,-11.4,-9.2,-10.6,-9.2,-9.6,-9.6,-8.8,-9.6,-8.0,-9.2,-8.4,-8.0,-8.4,-7.2,-8.0,-7.2,-7.2,-6.8,-6.8,-6.0,-6.8,-6.0,-5.2,-6.4,-4.4,-6.0,-4.4,-4.4,-5.6,-3.6,-4.8,-3.6,-3.6,-3.6,-2.4,-3.6,-3.2,-2.4,-2.4,-2.4,-2.8,-2.8,-2.8,-3.6,-3.6,-3.2,-4.4,-3.2,-4.4,-4.0,-4.0,-5.2,-4.0,-5.2,-4.4,-4.8,-5.2,-4.8,-6.4,-4.8,-6.4,-6.0,-5.6,-6.8,-5.6,-6.4,-6.8,-6.4,-6.8,-6.8,-6.8,-7.2,-7.2,-7.2,-7.6,-7.2,-7.6,-7.6,-7.2,-8.0,-7.6,-8.0,-7.6,-8.0,-8.0,-7.6,-8.8,-7.6,-8.8,-8.0,-8.4,-8.8,-8.0,-9.2,-8.0,-9.2,-8.4,-8.4,-9.2,-8.0,-9.2,-8.0,-8.8,-8.4,-8.4,-8.8,-8.0,-8.8,-7.6,-8.4,-8.0,-8.0,-8.4,-8.0,-8.4,-8.0,-8.0,-7.6,-8.0,-7.6,-7.6,-8.4,-6.8,-8.4,-7.2,-7.2,-8.4,-6.0,-8.0,-7.2,-6.4,-7.2,-6.4,-7.2,-6.4,-6.8,-6.0,-6.4,-6.4,-5.6,-6.4,-5.2,-5.6,-6.0,-5.2,-5.2,-5.6,-4.4,-5.2,-5.2,-4.4,-5.6,-4.0,-4.4,-4.8,-2.8,-4.8,-3.2,-3.6,-3.6,-2.8,-3.2,-2.8,-3.2,-2.4,-2.8,-2.4,-2.8,-2.8,-2.4,-2.8,-2.4,-2.8,-2.4,-3.2,-3.2,-2.4,-2.8,-3.2,-2.8,-3.6,-3.2,-3.6,-3.2,-3.6,-4.0,-3.2,-4.4,-3.6,-4.4,-4.0,-4.4,-4.0,-4.0,-4.4,-4.0,-5.2,-4.8,-3.2,-6.4,-3.6,-6.4,-2.8,-6.0,-4.8,-4.8,-5.2,-5.2,-6.0,-4.0,-6.4,-5.2,-5.2,-5.2,-5.6,-6.0,-4.0,-5.6,-5.6,-4.8,-6.0,-4.4,-6.4,-4.8,-5.6,-5.2,-5.2,-5.6,-5.2,-6.0,-5.2,-5.6,-5.2,-6.0,-4.8,-5.2,-5.6,-4.8,-5.6,-4.8,-5.2,-5.6,-4.4,-5.6,-4.8,-5.2,-4.8,-5.2,-5.2,-4.0,-5.6,-4.0,-4.8,-4.4,-4.0,-5.2,-4.0,-4.4,-4.4,-4.4,-3.6,-4.4,-3.6,-3.6,-4.8,-2.8,-4.4,-3.6,-3.2,-4.4,-2.8,-4.0,-2.8,-3.2,-2.8,-3.2,-3.2,-2.4,-4.0,-3.6,-2.4,-2.4,-3.6,-2.8,-2.4,-2.4,-2.4,-2.8,-2.8,-2.8,-2.4,-2.4,-3.2,-4.0,-2.4,-2.8,-3.6,-2.4,-3.6,-2.8,-3.2,-3.6,-3.2,-3.6,-3.6,-4.0,-2.8,-4.4,-3.2,-3.6,-4.4,-3.2,-4.4,-3.2,-4.0,-4.4,-4.0,-4.0,-4.0,-4.0,-4.0,-4.8,-4.0,-4.4,-4.4,-4.0,-4.4,-4.0,-4.8,-4.4,-4.8,-4.0,-4.4,-5.2,-3.6,-5.6,-4.0,-4.8,-5.2,-3.2,-5.6,-4.0,-4.4,-5.2,-4.0,-4.8,-4.4,-4.4,-4.4,-4.4,-4.0,-4.8,-4.0,-4.0,-4.4,-3.6,-4.8,-3.6,-4.4,-4.0,-3.6,-4.8,-3.2,-4.4,-3.6,-3.6,-4.0,-3.2,-4.4,-3.6,-3.6,-3.6,-3.2,-3.6,-3.2,-4.0,-2.8,-3.6,-3.2,-2.8,-3.6,-2.8,-3.2,-2.8,-3.2,-2.8,-2.4,-2.8,-2.4,-2.8,-2.4,-2.4,-3.6,-2.4,-2.8,-2.4,-2.8,-3.2,-2.8,-3.2,-3.2,-2.4,-2.8,-2.4,-3.2,-2.8,-3.2,-3.2,-2.4,-3.6,-2.8,-3.6,-3.2,-3.6,-3.6,-3.2,-4.0,-2.8,-4.8,-3.2,-3.6,-4.0,-3.6,-4.4,-2.8,-3.2,-5.6,-3.2,-4.8,-4.0,-4.4,-4.0,-3.6,-4.4,-4.4,-3.6,-4.0,-5.2,-3.2,-3.6,-4.4,-4.8,-4.0,-4.0,-4.8,-4.0,-4.0,-4.4,-3.6,-5.2,-3.2,-4.8,-4.4,-3.6,-4.4,-4.0,-4.8,-3.6,-4.8,-3.6,-4.8,-3.6,-4.0,-4.4,-3.6,-4.8,-3.6,-4.0,-4.0,-3.6,-4.8,-3.6,-4.0,-4.0,-3.6,-4.0,-3.2,-4.0,-3.6,-4.0,-3.2,-3.6,-3.6,-3.2,-3.6,-3.2,-3.6,-2.4,-3.6,-2.4,-3.2,-3.2,-2.4,-3.6,-3.2,-2.4,-2.4,-3.2,-3.6,-2.4,-2.8,-2.8,-2.4,-2.4,-2.4,-2.4,-2.4,-2.4,-2.4,-2.4,-2.4,-2.8,-2.4,-2.8,-3.2,-2.4,-2.4,-3.2,-3.6,-2.4,-2.8,-3.6,-2.4,-3.6,-3.2,-3.2,-3.6,-3.6,-3.2,-4.0,-3.6,-3.2,-4.4,-3.2,-4.0,-4.0,-3.6,-4.4,-3.6,-4.0,-3.6,-4.0,-4.0,-4.0,-4.4,-3.6,-4.8,-4.0,-4.4,-4.0,-4.0,-4.8,-4.0,-4.4,-4.0,-4.4,-4.0,-4.8,-4.4,-3.6,-5.2,-3.2,-4.8,-4.4,-4.0,-5.2,-3.2,-4.4,-4.0,-4.0,-4.4,-4.0,-4.4,-3.6,-4.8,-3.6,-4.4,-4.4,-3.6,-5.2,-3.6,-4.4,-4.0,-4.0,-4.4,-3.6,-4.0,-3.6,-4.4,-3.2,-4.4,-3.6,-3.6,-4.0,-3.2,-4.0,-3.6,-4.0,-3.6,-3.6,-3.6,-2.8,-3.6,-2.4,-3.6,-3.2,-2.8,-4.0,-2.4,-3.2,-2.8,-4.4,-2.4,-2.4,-2.4,-3.2,-2.4,-2.8,-2.4,-2.4,-2.4,-2.8,-2.4,-2.4,-2.8,-2.4,-2.4,-3.2,-2.8,-2.4,-2.4,-2.8,-3.2,-2.4,-2.8,-2.8,-2.4,-3.2,-2.8,-2.8,-2.8,-4.0,-2.4,-3.6,-3.6,-3.2,-4.4,-2.4,-4.0,-3.6,-3.2,-4.0,-3.6,-4.0,-3.6,-4.0,-3.6,-4.0,-4.0,-4.0,-4.4,-3.6,-4.4,-4.0,-4.4,-4.4,-4.0,-4.4,-3.6,-5.2,-3.6,-4.8,-4.4,-3.6,-5.2,-3.2,-4.8,-4.4,-4.0,-5.2,-3.6,-4.4,-4.4,-4.4,-4.4,-4.4,-4.4,-4.0,-4.4,-3.6,-4.4,-4.0,-4.4,-4.4,-3.6,-4.8,-3.6,-4.8,-4.0,-4.0,-4.4,-3.6,-4.4,-3.6,-4.4,-4.0,-4.0,-4.4,-3.6,-4.4,-3.6,-4.0,-3.6,-3.6,-4.0,-3.2,-4.0,-2.8,-4.0,-3.2,-3.2,-3.6,-3.2,-4.0,-2.8,-3.6,-3.2,-2.4,-3.2,-2.8,-3.6,-2.4,-3.2,-2.8,-2.8,-2.8,-2.4,-2.8,-2.8,-2.4,-2.4,-2.4,-2.4,-2.4,-2.8,-2.4,-2.4,-2.8,-2.4,-3.2,-2.8,-2.4,-2.4,-2.8,-2.8,-2.8,-2.4,-2.8,-2.8,-3.2,-3.2,-2.4,-2.8,-3.2,-2.4,-3.6,-2.4,-3.2,-3.2,-2.8,-3.6,-2.4,-3.2,-3.2,-3.2,-3.2,-3.2,-3.2,-3.2,-3.6,-2.8,-4.0,-2.8,-3.2,-4.0,-2.8,-4.0,-3.2,-3.6,-3.2,-2.4,-5.2,-3.6,-2.4,-4.8,-3.6,-2.8,-4.4,-3.2,-3.6,-3.2,-3.6,-3.6,-3.2,-3.6,-3.6,-3.6,-2.4,-4.4,-4.4,-2.8,-4.4,-2.8,-4.4,-2.8,-4.0,-3.2,-3.6,-3.6,-3.2,-4.4,-2.4,-4.4,-3.2,-3.6,-3.2,-2.8,-4.0,-3.2,-3.2,-3.6,-3.2,-3.6,-2.8,-3.6,-2.8,-3.2,-3.2,-2.8,-3.2,-2.4,-3.6,-2.4,-2.8,-2.4,-2.8,-2.8,-2.4,-3.2,-3.2,-2.8,-2.4,-2.8,-2.8,-2.4,-2.8,-3.2,-2.4,-2.4,-2.4,-2.4,-2.4,-2.8,-2.4,-2.4,-3.6,-2.4,-2.8,-3.6,-2.8,-3.2,-3.2,-2.4,-2.8,-2.8,-2.8,-2.8,-2.4,-3.2,-2.4,-3.2,-2.8,-2.8,-2.8,-2.4,-3.2,-2.8,-3.2,-2.8,-3.2,-2.8,-2.8,-3.6,-2.4,-3.2,-3.2,-2.8,-3.6,-2.4,-4.0,-3.2,-3.6,-3.2,-3.2,-3.2,-2.8,-3.6,-2.4,-4.0,-2.4,-3.6,-2.8,-3.2,-3.6,-2.4,-4.0,-2.8,-2.4,-3.6,-2.8,-2.8,-2.8,-3.2,-2.8,-2.8,-3.2,-2.4,-3.6,-2.4,-3.2,-2.4,-2.8,-3.2,-2.4,-3.2,-2.4,-3.2,-2.4,-2.8,-2.4,-2.8,-3.2,-3.2,-2.8,-2.8,-2.4,-3.6,-4.0,-3.6,-2.8,-3.2,-2.8,-2.4,-2.8,-2.4,-2.4,-3.2,-2.4,-2.4,-2.4,-2.4,-2.4,-2.8,-2.4,-2.4,-2.8,-2.4,-2.4,-2.4,-2.4,-2.4,-2.4,-2.4,-2.4,-2.4,-2.4,-2.8,-2.4,-2.4,-2.4,-2.4,-2.4,-2.4],\"yaxis\":\"y\",\"type\":\"scattergl\"}],                        {\"template\":{\"data\":{\"bar\":[{\"error_x\":{\"color\":\"#2a3f5f\"},\"error_y\":{\"color\":\"#2a3f5f\"},\"marker\":{\"line\":{\"color\":\"#E5ECF6\",\"width\":0.5},\"pattern\":{\"fillmode\":\"overlay\",\"size\":10,\"solidity\":0.2}},\"type\":\"bar\"}],\"barpolar\":[{\"marker\":{\"line\":{\"color\":\"#E5ECF6\",\"width\":0.5},\"pattern\":{\"fillmode\":\"overlay\",\"size\":10,\"solidity\":0.2}},\"type\":\"barpolar\"}],\"carpet\":[{\"aaxis\":{\"endlinecolor\":\"#2a3f5f\",\"gridcolor\":\"white\",\"linecolor\":\"white\",\"minorgridcolor\":\"white\",\"startlinecolor\":\"#2a3f5f\"},\"baxis\":{\"endlinecolor\":\"#2a3f5f\",\"gridcolor\":\"white\",\"linecolor\":\"white\",\"minorgridcolor\":\"white\",\"startlinecolor\":\"#2a3f5f\"},\"type\":\"carpet\"}],\"choropleth\":[{\"colorbar\":{\"outlinewidth\":0,\"ticks\":\"\"},\"type\":\"choropleth\"}],\"contour\":[{\"colorbar\":{\"outlinewidth\":0,\"ticks\":\"\"},\"colorscale\":[[0.0,\"#0d0887\"],[0.1111111111111111,\"#46039f\"],[0.2222222222222222,\"#7201a8\"],[0.3333333333333333,\"#9c179e\"],[0.4444444444444444,\"#bd3786\"],[0.5555555555555556,\"#d8576b\"],[0.6666666666666666,\"#ed7953\"],[0.7777777777777778,\"#fb9f3a\"],[0.8888888888888888,\"#fdca26\"],[1.0,\"#f0f921\"]],\"type\":\"contour\"}],\"contourcarpet\":[{\"colorbar\":{\"outlinewidth\":0,\"ticks\":\"\"},\"type\":\"contourcarpet\"}],\"heatmap\":[{\"colorbar\":{\"outlinewidth\":0,\"ticks\":\"\"},\"colorscale\":[[0.0,\"#0d0887\"],[0.1111111111111111,\"#46039f\"],[0.2222222222222222,\"#7201a8\"],[0.3333333333333333,\"#9c179e\"],[0.4444444444444444,\"#bd3786\"],[0.5555555555555556,\"#d8576b\"],[0.6666666666666666,\"#ed7953\"],[0.7777777777777778,\"#fb9f3a\"],[0.8888888888888888,\"#fdca26\"],[1.0,\"#f0f921\"]],\"type\":\"heatmap\"}],\"heatmapgl\":[{\"colorbar\":{\"outlinewidth\":0,\"ticks\":\"\"},\"colorscale\":[[0.0,\"#0d0887\"],[0.1111111111111111,\"#46039f\"],[0.2222222222222222,\"#7201a8\"],[0.3333333333333333,\"#9c179e\"],[0.4444444444444444,\"#bd3786\"],[0.5555555555555556,\"#d8576b\"],[0.6666666666666666,\"#ed7953\"],[0.7777777777777778,\"#fb9f3a\"],[0.8888888888888888,\"#fdca26\"],[1.0,\"#f0f921\"]],\"type\":\"heatmapgl\"}],\"histogram\":[{\"marker\":{\"pattern\":{\"fillmode\":\"overlay\",\"size\":10,\"solidity\":0.2}},\"type\":\"histogram\"}],\"histogram2d\":[{\"colorbar\":{\"outlinewidth\":0,\"ticks\":\"\"},\"colorscale\":[[0.0,\"#0d0887\"],[0.1111111111111111,\"#46039f\"],[0.2222222222222222,\"#7201a8\"],[0.3333333333333333,\"#9c179e\"],[0.4444444444444444,\"#bd3786\"],[0.5555555555555556,\"#d8576b\"],[0.6666666666666666,\"#ed7953\"],[0.7777777777777778,\"#fb9f3a\"],[0.8888888888888888,\"#fdca26\"],[1.0,\"#f0f921\"]],\"type\":\"histogram2d\"}],\"histogram2dcontour\":[{\"colorbar\":{\"outlinewidth\":0,\"ticks\":\"\"},\"colorscale\":[[0.0,\"#0d0887\"],[0.1111111111111111,\"#46039f\"],[0.2222222222222222,\"#7201a8\"],[0.3333333333333333,\"#9c179e\"],[0.4444444444444444,\"#bd3786\"],[0.5555555555555556,\"#d8576b\"],[0.6666666666666666,\"#ed7953\"],[0.7777777777777778,\"#fb9f3a\"],[0.8888888888888888,\"#fdca26\"],[1.0,\"#f0f921\"]],\"type\":\"histogram2dcontour\"}],\"mesh3d\":[{\"colorbar\":{\"outlinewidth\":0,\"ticks\":\"\"},\"type\":\"mesh3d\"}],\"parcoords\":[{\"line\":{\"colorbar\":{\"outlinewidth\":0,\"ticks\":\"\"}},\"type\":\"parcoords\"}],\"pie\":[{\"automargin\":true,\"type\":\"pie\"}],\"scatter\":[{\"marker\":{\"colorbar\":{\"outlinewidth\":0,\"ticks\":\"\"}},\"type\":\"scatter\"}],\"scatter3d\":[{\"line\":{\"colorbar\":{\"outlinewidth\":0,\"ticks\":\"\"}},\"marker\":{\"colorbar\":{\"outlinewidth\":0,\"ticks\":\"\"}},\"type\":\"scatter3d\"}],\"scattercarpet\":[{\"marker\":{\"colorbar\":{\"outlinewidth\":0,\"ticks\":\"\"}},\"type\":\"scattercarpet\"}],\"scattergeo\":[{\"marker\":{\"colorbar\":{\"outlinewidth\":0,\"ticks\":\"\"}},\"type\":\"scattergeo\"}],\"scattergl\":[{\"marker\":{\"colorbar\":{\"outlinewidth\":0,\"ticks\":\"\"}},\"type\":\"scattergl\"}],\"scattermapbox\":[{\"marker\":{\"colorbar\":{\"outlinewidth\":0,\"ticks\":\"\"}},\"type\":\"scattermapbox\"}],\"scatterpolar\":[{\"marker\":{\"colorbar\":{\"outlinewidth\":0,\"ticks\":\"\"}},\"type\":\"scatterpolar\"}],\"scatterpolargl\":[{\"marker\":{\"colorbar\":{\"outlinewidth\":0,\"ticks\":\"\"}},\"type\":\"scatterpolargl\"}],\"scatterternary\":[{\"marker\":{\"colorbar\":{\"outlinewidth\":0,\"ticks\":\"\"}},\"type\":\"scatterternary\"}],\"surface\":[{\"colorbar\":{\"outlinewidth\":0,\"ticks\":\"\"},\"colorscale\":[[0.0,\"#0d0887\"],[0.1111111111111111,\"#46039f\"],[0.2222222222222222,\"#7201a8\"],[0.3333333333333333,\"#9c179e\"],[0.4444444444444444,\"#bd3786\"],[0.5555555555555556,\"#d8576b\"],[0.6666666666666666,\"#ed7953\"],[0.7777777777777778,\"#fb9f3a\"],[0.8888888888888888,\"#fdca26\"],[1.0,\"#f0f921\"]],\"type\":\"surface\"}],\"table\":[{\"cells\":{\"fill\":{\"color\":\"#EBF0F8\"},\"line\":{\"color\":\"white\"}},\"header\":{\"fill\":{\"color\":\"#C8D4E3\"},\"line\":{\"color\":\"white\"}},\"type\":\"table\"}]},\"layout\":{\"annotationdefaults\":{\"arrowcolor\":\"#2a3f5f\",\"arrowhead\":0,\"arrowwidth\":1},\"autotypenumbers\":\"strict\",\"coloraxis\":{\"colorbar\":{\"outlinewidth\":0,\"ticks\":\"\"}},\"colorscale\":{\"diverging\":[[0,\"#8e0152\"],[0.1,\"#c51b7d\"],[0.2,\"#de77ae\"],[0.3,\"#f1b6da\"],[0.4,\"#fde0ef\"],[0.5,\"#f7f7f7\"],[0.6,\"#e6f5d0\"],[0.7,\"#b8e186\"],[0.8,\"#7fbc41\"],[0.9,\"#4d9221\"],[1,\"#276419\"]],\"sequential\":[[0.0,\"#0d0887\"],[0.1111111111111111,\"#46039f\"],[0.2222222222222222,\"#7201a8\"],[0.3333333333333333,\"#9c179e\"],[0.4444444444444444,\"#bd3786\"],[0.5555555555555556,\"#d8576b\"],[0.6666666666666666,\"#ed7953\"],[0.7777777777777778,\"#fb9f3a\"],[0.8888888888888888,\"#fdca26\"],[1.0,\"#f0f921\"]],\"sequentialminus\":[[0.0,\"#0d0887\"],[0.1111111111111111,\"#46039f\"],[0.2222222222222222,\"#7201a8\"],[0.3333333333333333,\"#9c179e\"],[0.4444444444444444,\"#bd3786\"],[0.5555555555555556,\"#d8576b\"],[0.6666666666666666,\"#ed7953\"],[0.7777777777777778,\"#fb9f3a\"],[0.8888888888888888,\"#fdca26\"],[1.0,\"#f0f921\"]]},\"colorway\":[\"#636efa\",\"#EF553B\",\"#00cc96\",\"#ab63fa\",\"#FFA15A\",\"#19d3f3\",\"#FF6692\",\"#B6E880\",\"#FF97FF\",\"#FECB52\"],\"font\":{\"color\":\"#2a3f5f\"},\"geo\":{\"bgcolor\":\"white\",\"lakecolor\":\"white\",\"landcolor\":\"#E5ECF6\",\"showlakes\":true,\"showland\":true,\"subunitcolor\":\"white\"},\"hoverlabel\":{\"align\":\"left\"},\"hovermode\":\"closest\",\"mapbox\":{\"style\":\"light\"},\"paper_bgcolor\":\"white\",\"plot_bgcolor\":\"#E5ECF6\",\"polar\":{\"angularaxis\":{\"gridcolor\":\"white\",\"linecolor\":\"white\",\"ticks\":\"\"},\"bgcolor\":\"#E5ECF6\",\"radialaxis\":{\"gridcolor\":\"white\",\"linecolor\":\"white\",\"ticks\":\"\"}},\"scene\":{\"xaxis\":{\"backgroundcolor\":\"#E5ECF6\",\"gridcolor\":\"white\",\"gridwidth\":2,\"linecolor\":\"white\",\"showbackground\":true,\"ticks\":\"\",\"zerolinecolor\":\"white\"},\"yaxis\":{\"backgroundcolor\":\"#E5ECF6\",\"gridcolor\":\"white\",\"gridwidth\":2,\"linecolor\":\"white\",\"showbackground\":true,\"ticks\":\"\",\"zerolinecolor\":\"white\"},\"zaxis\":{\"backgroundcolor\":\"#E5ECF6\",\"gridcolor\":\"white\",\"gridwidth\":2,\"linecolor\":\"white\",\"showbackground\":true,\"ticks\":\"\",\"zerolinecolor\":\"white\"}},\"shapedefaults\":{\"line\":{\"color\":\"#2a3f5f\"}},\"ternary\":{\"aaxis\":{\"gridcolor\":\"white\",\"linecolor\":\"white\",\"ticks\":\"\"},\"baxis\":{\"gridcolor\":\"white\",\"linecolor\":\"white\",\"ticks\":\"\"},\"bgcolor\":\"#E5ECF6\",\"caxis\":{\"gridcolor\":\"white\",\"linecolor\":\"white\",\"ticks\":\"\"}},\"title\":{\"x\":0.05},\"xaxis\":{\"automargin\":true,\"gridcolor\":\"white\",\"linecolor\":\"white\",\"ticks\":\"\",\"title\":{\"standoff\":15},\"zerolinecolor\":\"white\",\"zerolinewidth\":2},\"yaxis\":{\"automargin\":true,\"gridcolor\":\"white\",\"linecolor\":\"white\",\"ticks\":\"\",\"title\":{\"standoff\":15},\"zerolinecolor\":\"white\",\"zerolinewidth\":2}}},\"xaxis\":{\"anchor\":\"y\",\"domain\":[0.0,1.0],\"title\":{\"text\":\"Times(us)\"}},\"yaxis\":{\"anchor\":\"x\",\"domain\":[0.0,1.0],\"title\":{\"text\":\"Amplitude(mV)\"}},\"legend\":{\"tracegroupgap\":0},\"margin\":{\"t\":60}},                        {\"responsive\": true}                    ).then(function(){\n",
              "                            \n",
              "var gd = document.getElementById('e8560b19-adc8-4601-8f47-611d2081e912');\n",
              "var x = new MutationObserver(function (mutations, observer) {{\n",
              "        var display = window.getComputedStyle(gd).display;\n",
              "        if (!display || display === 'none') {{\n",
              "            console.log([gd, 'removed!']);\n",
              "            Plotly.purge(gd);\n",
              "            observer.disconnect();\n",
              "        }}\n",
              "}});\n",
              "\n",
              "// Listen for the removal of the full notebook cells\n",
              "var notebookContainer = gd.closest('#notebook-container');\n",
              "if (notebookContainer) {{\n",
              "    x.observe(notebookContainer, {childList: true});\n",
              "}}\n",
              "\n",
              "// Listen for the clearing of the current output cell\n",
              "var outputEl = gd.closest('.output');\n",
              "if (outputEl) {{\n",
              "    x.observe(outputEl, {childList: true});\n",
              "}}\n",
              "\n",
              "                        })                };                            </script>        </div>\n",
              "</body>\n",
              "</html>"
            ]
          },
          "metadata": {}
        }
      ]
    },
    {
      "cell_type": "code",
      "source": [],
      "metadata": {
        "id": "w71r42xtbeBM"
      },
      "execution_count": null,
      "outputs": []
    }
  ]
}